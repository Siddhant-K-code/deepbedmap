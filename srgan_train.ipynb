{
 "cells": [
  {
   "cell_type": "markdown",
   "metadata": {},
   "source": [
    "# Super-Resolution Generative Adversarial Network training\n",
    "\n",
    "Here in this jupyter notebook, we will train a super-resolution generative adversarial network (SRGAN), to create a high-resolution Antarctic bed Digital Elevation Model(DEM) from a low-resolution DEM.\n",
    "In addition to that, we use additional correlated inputs that can also tell us something about the bed topography.\n",
    "\n",
    "<img src=\"https://yuml.me/diagram/scruffy;dir:LR/class/[BEDMAP2 (1000m)]->[Generator model],[REMA (100m)]->[Generator model],[MEASURES Ice Flow Velocity (450m)]->[Generator model],[Generator model]->[High res bed DEM (250m)],[High res bed DEM (250m)]->[Discriminator model],[Groundtruth Image (250m)]->[Discriminator model],[Discriminator model]->[True/False]\" alt=\"3 input SRGAN model\"/>"
   ]
  },
  {
   "cell_type": "markdown",
   "metadata": {},
   "source": [
    "## 0. Setup libraries"
   ]
  },
  {
   "cell_type": "code",
   "execution_count": 1,
   "metadata": {},
   "outputs": [
    {
     "name": "stderr",
     "output_type": "stream",
     "text": [
      "Using TensorFlow backend.\n"
     ]
    },
    {
     "name": "stdout",
     "output_type": "stream",
     "text": [
      "Python       : 3.6.6 | packaged by conda-forge | (default, Oct 11 2018, 14:33:06) \n",
      "Numpy        : 1.14.5\n",
      "Keras        : 2.2.4\n",
      "Tensorflow   : 1.10.1\n"
     ]
    },
    {
     "data": {
      "text/plain": [
       "'/device:GPU:0'"
      ]
     },
     "execution_count": 1,
     "metadata": {},
     "output_type": "execute_result"
    }
   ],
   "source": [
    "import os\n",
    "import random\n",
    "import sys\n",
    "import typing\n",
    "\n",
    "os.environ[\"CUDA_VISIBLE_DEVICES\"] = \"0\"\n",
    "\n",
    "import comet_ml\n",
    "import IPython.display\n",
    "import matplotlib.pyplot as plt\n",
    "import numpy as np\n",
    "import pandas as pd\n",
    "import quilt\n",
    "import skimage.transform\n",
    "import sklearn.model_selection\n",
    "import tqdm\n",
    "\n",
    "import keras\n",
    "from keras import backend as K\n",
    "from keras.layers import (\n",
    "    Add,\n",
    "    BatchNormalization,\n",
    "    Concatenate,\n",
    "    Conv2D,\n",
    "    Conv2DTranspose,\n",
    "    Dense,\n",
    "    Flatten,\n",
    "    Input,\n",
    "    Lambda,\n",
    ")\n",
    "from keras.layers.advanced_activations import LeakyReLU, PReLU\n",
    "from keras.models import Model\n",
    "import livelossplot\n",
    "\n",
    "from features.environment import _load_ipynb_modules\n",
    "\n",
    "print(\"Python       :\", sys.version.split(\"\\n\")[0])\n",
    "print(\"Numpy        :\", np.__version__)\n",
    "print(\"Keras        :\", keras.__version__)\n",
    "print(\"Tensorflow   :\", K.tf.__version__)\n",
    "K.tf.test.gpu_device_name()"
   ]
  },
  {
   "cell_type": "code",
   "execution_count": 2,
   "metadata": {},
   "outputs": [
    {
     "name": "stderr",
     "output_type": "stream",
     "text": [
      "COMET INFO: old comet version (1.0.40) detected. current: 1.0.42 please update your comet lib with command: `pip install --no-cache-dir --upgrade comet_ml`\n",
      "COMET INFO: Experiment is live on comet.ml https://www.comet.ml/weiji14/deepbedmap/5f6ab34b298b4f9d8cb61816ba284abe\n",
      "\n"
     ]
    }
   ],
   "source": [
    "# Set seed values\n",
    "seed = 42\n",
    "random.seed = seed\n",
    "np.random.seed(seed=seed)\n",
    "K.tf.set_random_seed(seed=seed)\n",
    "\n",
    "# Start tracking experiment using Comet.ML\n",
    "experiment = comet_ml.Experiment(workspace=\"weiji14\", project_name=\"deepbedmap\")"
   ]
  },
  {
   "cell_type": "markdown",
   "metadata": {},
   "source": [
    "## 1. Load data"
   ]
  },
  {
   "cell_type": "code",
   "execution_count": 3,
   "metadata": {},
   "outputs": [
    {
     "name": "stdout",
     "output_type": "stream",
     "text": [
      "Downloading package metadata...\n",
      "Fragments already downloaded\n"
     ]
    }
   ],
   "source": [
    "hash = \"1ccc9dc7f6344e1ec27b7aa972f2739d192d3e5adef8a64528b86bc799e2df60\"\n",
    "quilt.install(package=\"weiji14/deepbedmap/model/train\", hash=hash, force=True)\n",
    "pkg = quilt.load(pkginfo=\"weiji14/deepbedmap/model/train\", hash=hash)\n",
    "experiment.log_parameter(\"dataset_hash\", hash)"
   ]
  },
  {
   "cell_type": "code",
   "execution_count": 4,
   "metadata": {},
   "outputs": [
    {
     "name": "stdout",
     "output_type": "stream",
     "text": [
      "(2480, 100, 100, 1) (2480, 20, 20, 1) (2480, 10, 10, 1) (2480, 32, 32, 1)\n"
     ]
    }
   ],
   "source": [
    "W1_data = pkg.W1_data()  # miscellaneous data REMA\n",
    "W2_data = pkg.W2_data()  # miscellaneous data MEASURES Ice Flow\n",
    "X_data = pkg.X_data()  # low resolution BEDMAP2\n",
    "Y_data = pkg.Y_data()  # high resolution groundtruth\n",
    "# W1_data = np.load(file=\"model/train/W1_data.npy\")\n",
    "# W2_data = np.load(file=\"model/train/W2_data.npy\")\n",
    "# X_data = np.load(file=\"model/train/X_data.npy\")\n",
    "# Y_data = np.load(file=\"model/train/Y_data.npy\")\n",
    "print(W1_data.shape, W2_data.shape, X_data.shape, Y_data.shape)"
   ]
  },
  {
   "cell_type": "markdown",
   "metadata": {},
   "source": [
    "### Split dataset into training (train) and development (dev) sets"
   ]
  },
  {
   "cell_type": "code",
   "execution_count": 5,
   "metadata": {
    "lines_to_next_cell": 2
   },
   "outputs": [],
   "source": [
    "def train_dev_split(dataset: np.ndarray, test_size=0.05, random_state=42):\n",
    "    \"\"\"\n",
    "    Split our dataset up into training and development sets.\n",
    "    Used for cross validation purposes to check for overfitting.\n",
    "\n",
    "    >>> dataset = np.ones(shape=(100, 4, 4, 1))\n",
    "    >>> train, dev = train_dev_split(dataset=dataset, test_size=0.05, random_state=42)\n",
    "    >>> train.shape\n",
    "    (95, 4, 4, 1)\n",
    "    >>> dev.shape\n",
    "    (5, 4, 4, 1)\n",
    "    \"\"\"\n",
    "    return sklearn.model_selection.train_test_split(\n",
    "        dataset,\n",
    "        test_size=test_size,\n",
    "        train_size=1 - test_size,\n",
    "        random_state=random_state,\n",
    "        shuffle=True,\n",
    "    )"
   ]
  },
  {
   "cell_type": "code",
   "execution_count": 6,
   "metadata": {
    "lines_to_next_cell": 2
   },
   "outputs": [],
   "source": [
    "W1_train, W1_dev = train_dev_split(dataset=W1_data)\n",
    "W2_train, W2_dev = train_dev_split(dataset=W2_data)\n",
    "X_train, X_dev = train_dev_split(dataset=X_data)\n",
    "Y_train, Y_dev = train_dev_split(dataset=Y_data)"
   ]
  },
  {
   "cell_type": "markdown",
   "metadata": {},
   "source": [
    "## 2. Architect model\n",
    "\n",
    "Super Resolution Generative Adversarial Network model based on [Ledig et al. 2017](https://arxiv.org/abs/1609.04802v5).\n",
    "Keras implementation below takes some hints from https://github.com/eriklindernoren/Keras-GAN/blob/master/srgan/srgan.py"
   ]
  },
  {
   "cell_type": "markdown",
   "metadata": {},
   "source": [
    "### Generator Network Architecture\n",
    "\n",
    "![SRGAN architecture - Generator Network](https://arxiv-sanity-sanity-production.s3.amazonaws.com/render-output/399644/images/used/jpg/generator.jpg)\n",
    "![3-in-1 Generator Network](https://yuml.me/01862e1a.png)\n",
    "\n",
    "Details of the first convolutional layer:\n",
    "\n",
    "- Input tiles are 8000m by 8000m.\n",
    "- Convolution filter kernels are 3000m by 3000m.\n",
    "- Strides are 1000m by 1000m.\n",
    "\n",
    "Example: for a 100m spatial resolution tile:\n",
    "\n",
    "- Input tile is 80pixels by 80pixels\n",
    "- Convolution filter kernels are 30pixels by 30pixels\n",
    "- Strides are 10pixels by 10pixels\n",
    "\n",
    "Note that first convolutional layer uses '**valid**' padding, see https://keras.io/layers/convolutional/ for more information.\n",
    "\n",
    "<!--[W2_input(MEASURES)|20x20x1]-k6n32s2>[W2_inter|8x8x32],[W2_inter]->[Concat|8x8x96]\n",
    "[X_input(BEDMAP2)|10x10x1]-k3n32s1>[X_inter|8x8x32],[X_inter]->[Concat|8x8x96]\n",
    "[W1_input(REMA)|100x100x1]-k30n32s10>[W1_inter|8x8x32],[W1_inter]->[Concat|8x8x96]\n",
    "[Concat|8x8x96]->[Generator-Network],[Generator-Network]->[Y_hat(High-Resolution_DEM)|32x32x1]-->"
   ]
  },
  {
   "cell_type": "code",
   "execution_count": 7,
   "metadata": {
    "lines_to_next_cell": 2
   },
   "outputs": [],
   "source": [
    "def generator_network(\n",
    "    input1_shape: typing.Tuple[int, int, int] = (10, 10, 1),\n",
    "    input2_shape: typing.Tuple[int, int, int] = (100, 100, 1),\n",
    "    input3_shape: typing.Tuple[int, int, int] = (20, 20, 1),\n",
    "    num_residual_blocks: int = 16,\n",
    "    scaling: int = 4,\n",
    "    output_channels: int = 1,\n",
    ") -> keras.engine.network.Network:\n",
    "    \"\"\"\n",
    "    The generator network which is a deconvolutional neural network.\n",
    "    Converts a low resolution input into a super resolution output.\n",
    "\n",
    "    Parameters:\n",
    "      input_shape -- shape of input tensor in tuple format (height, width, channels)\n",
    "      num_residual_blocks -- how many Conv-BatchNorm-PReLU-Conv-BatchNorm blocks to use\n",
    "      scaling -- even numbered integer to increase resolution (e.g. 0, 2, 4, 6, 8)\n",
    "      output_channels -- integer representing number of output channels/filters/kernels\n",
    "\n",
    "    Example:\n",
    "      An input_shape of (8,8,1) passing through 16 residual blocks with a scaling of 4\n",
    "      and output_channels 1 will result in an image of shape (32,32,1)\n",
    "\n",
    "    >>> generator_network().input_shape\n",
    "    [(None, 10, 10, 1), (None, 100, 100, 1), (None, 20, 20, 1)]\n",
    "    >>> generator_network().output_shape\n",
    "    (None, 32, 32, 1)\n",
    "    >>> generator_network().count_params()\n",
    "    1614593\n",
    "    \"\"\"\n",
    "\n",
    "    assert num_residual_blocks >= 1  # ensure that we have 1 or more residual blocks\n",
    "    assert scaling % 2 == 0  # ensure scaling factor is even, i.e. 0, 2, 4, 8, etc\n",
    "    assert scaling >= 0  # ensure that scaling factor is zero or a positive number\n",
    "    assert output_channels >= 1  # ensure that we have 1 or more output channels\n",
    "\n",
    "    ## Input images\n",
    "    inp1 = Input(shape=input1_shape)  # low resolution image\n",
    "    assert inp1.shape.ndims == 4  # has to be shape like (?,10,10,1) for 10x10 grid\n",
    "    inp2 = Input(shape=input2_shape)  # other image (e.g. REMA)\n",
    "    assert inp2.shape.ndims == 4  # has to be shape like (?,100,100,1) for 100x100 grid\n",
    "    inp3 = Input(shape=input3_shape)  # other image (MEASURES Ice Flow)\n",
    "    assert inp3.shape.ndims == 4  # has to be shape like (?,20,20,1) for 20x20 grid\n",
    "\n",
    "    # 0 part\n",
    "    # Resize inputs to right scale using convolution (hardcoded kernel_size and strides)\n",
    "    inp1r = Conv2D(filters=32, kernel_size=(3, 3), strides=(1, 1), padding=\"valid\")(\n",
    "        inp1\n",
    "    )\n",
    "    inp2r = Conv2D(filters=32, kernel_size=(30, 30), strides=(10, 10), padding=\"valid\")(\n",
    "        inp2\n",
    "    )\n",
    "    inp3r = Conv2D(filters=32, kernel_size=(6, 6), strides=(2, 2), padding=\"valid\")(\n",
    "        inp3\n",
    "    )\n",
    "\n",
    "    # Concatenate all inputs\n",
    "    # SEE https://distill.pub/2016/deconv-checkerboard/\n",
    "    X = Concatenate()([inp1r, inp2r, inp3r])  # Concatenate all the inputs together\n",
    "\n",
    "    # 1st part\n",
    "    # Pre-residual k3n64s1 (originally k9n64s1)\n",
    "    X0 = Conv2D(filters=64, kernel_size=(3, 3), strides=(1, 1), padding=\"same\")(X)\n",
    "    X0 = PReLU(shared_axes=[1, 2])(X0)\n",
    "\n",
    "    # 2nd part\n",
    "    # Residual blocks k3n64s1\n",
    "    def residual_block(input_tensor):\n",
    "        x = Conv2D(filters=64, kernel_size=(3, 3), strides=(1, 1), padding=\"same\")(\n",
    "            input_tensor\n",
    "        )\n",
    "        x = BatchNormalization()(x)\n",
    "        x = PReLU(shared_axes=[1, 2])(x)\n",
    "        x = Conv2D(filters=64, kernel_size=(3, 3), strides=(1, 1), padding=\"same\")(x)\n",
    "        x = BatchNormalization()(x)\n",
    "        return Add()([x, input_tensor])\n",
    "\n",
    "    X = residual_block(X0)\n",
    "    for _ in range(num_residual_blocks - 1):\n",
    "        X = residual_block(X)\n",
    "\n",
    "    # 3rd part\n",
    "    # Post-residual blocks k3n64s1\n",
    "    X = Conv2D(filters=64, kernel_size=(3, 3), strides=(1, 1), padding=\"same\")(X)\n",
    "    X = BatchNormalization()(X)\n",
    "    X = Add()([X, X0])\n",
    "\n",
    "    # 4th part\n",
    "    # Upsampling (if 4; run twice, if 8; run thrice, etc.) k3n256s1\n",
    "    for p, _ in enumerate(range(scaling // 2), start=1):\n",
    "        X = Conv2D(filters=256, kernel_size=(3, 3), strides=(1, 1), padding=\"same\")(X)\n",
    "        pixelshuffleup = lambda images: K.tf.depth_to_space(input=images, block_size=2)\n",
    "        X = Lambda(function=pixelshuffleup, name=f\"pixelshuffleup_{p}\")(X)\n",
    "        X = PReLU(shared_axes=[1, 2])(X)\n",
    "\n",
    "    # 5th part\n",
    "    # Generate high resolution output k9n1s1 (originally k9n3s1 for RGB image)\n",
    "    outp = Conv2D(\n",
    "        filters=output_channels,\n",
    "        kernel_size=(9, 9),\n",
    "        strides=(1, 1),\n",
    "        padding=\"same\",\n",
    "        name=\"generator_output\",\n",
    "    )(X)\n",
    "\n",
    "    # Create neural network with input low-res images and output prediction\n",
    "    network = keras.engine.network.Network(\n",
    "        inputs=[inp1, inp2, inp3], outputs=[outp], name=\"generator_network\"\n",
    "    )\n",
    "\n",
    "    return network"
   ]
  },
  {
   "cell_type": "markdown",
   "metadata": {},
   "source": [
    "### Discriminator Network Architecture\n",
    "\n",
    "Discriminator component is based on Deep Convolutional Generative Adversarial Networks by [Radford et al., 2015](https://arxiv.org/abs/1511.06434).\n",
    "Keras implementation below takes some hints from https://github.com/erilyth/DCGANs/blob/master/DCGAN-CIFAR10/dcgan.py and https://github.com/yashk2810/DCGAN-Keras/blob/master/DCGAN.ipynb\n",
    "\n",
    "![SRGAN architecture - Discriminator Network](https://arxiv-sanity-sanity-production.s3.amazonaws.com/render-output/399644/images/used/jpg/discriminator.jpg)\n",
    "\n",
    "![Discriminator Network](https://yuml.me/diagram/scruffy/class/[High-Resolution_DEM|32x32x1]->[Discriminator-Network],[Discriminator-Network]->[False/True|0/1])"
   ]
  },
  {
   "cell_type": "code",
   "execution_count": 8,
   "metadata": {
    "lines_to_next_cell": 2
   },
   "outputs": [],
   "source": [
    "def discriminator_network(\n",
    "    input_shape: typing.Tuple[int, int, int] = (32, 32, 1)\n",
    ") -> keras.engine.network.Network:\n",
    "    \"\"\"\n",
    "    The discriminator network which is a convolutional neural network.\n",
    "    Takes ONE high resolution input image and predicts whether it is\n",
    "    real or fake on a scale of 0 to 1, where 0 is fake and 1 is real.\n",
    "\n",
    "    >>> discriminator_network().input_shape\n",
    "    (None, 32, 32, 1)\n",
    "    >>> discriminator_network().output_shape\n",
    "    (None, 1)\n",
    "    >>> discriminator_network().count_params()\n",
    "    6828033\n",
    "    \"\"\"\n",
    "\n",
    "    ## Input images\n",
    "    inp = Input(shape=input_shape)  # high resolution/groundtruth image to discriminate\n",
    "    assert inp.shape.ndims == 4  # needs to be shape like (?,32,32,1) for 8x8 grid\n",
    "\n",
    "    # 1st part\n",
    "    # Convolutonal Block without Batch Normalization k3n64s1\n",
    "    X = Conv2D(filters=64, kernel_size=(3, 3), strides=(1, 1), padding=\"same\")(inp)\n",
    "    X = LeakyReLU(alpha=0.2)(X)\n",
    "\n",
    "    # 2nd part\n",
    "    # Convolutional Blocks with Batch Normalization k3n{64*f}s{1or2}\n",
    "    for f, s in zip([1, 1, 2, 2, 4, 4, 8, 8], [1, 2, 1, 2, 1, 2, 1, 2]):\n",
    "        X = Conv2D(filters=64 * f, kernel_size=(3, 3), strides=(s, s), padding=\"same\")(\n",
    "            X\n",
    "        )\n",
    "        X = LeakyReLU(alpha=0.2)(X)\n",
    "        X = BatchNormalization()(X)\n",
    "\n",
    "    # 3rd part\n",
    "    # Flatten, Dense (Fully Connected) Layers and Output\n",
    "    X = Flatten()(X)\n",
    "    X = Dense(units=1024)(X)  # ??!! Flatten?\n",
    "    X = LeakyReLU(alpha=0.2)(X)\n",
    "    outp = Dense(units=1, activation=\"sigmoid\", name=\"discriminator_output\")(X)\n",
    "\n",
    "    # Create neural network with input highres/groundtruth images, output validity 0/1\n",
    "    network = keras.engine.network.Network(\n",
    "        inputs=[inp], outputs=[outp], name=\"discriminator_network\"\n",
    "    )\n",
    "\n",
    "    return network"
   ]
  },
  {
   "cell_type": "markdown",
   "metadata": {},
   "source": [
    "### Combine Generator and Discriminator Networks\n",
    "\n",
    "Here we combine the Generator and Discriminator neural network models together, and define the Perceptual Loss function where:\n",
    "\n",
    "$$Perceptual Loss = Content Loss + Adversarial Loss$$\n",
    "\n",
    "The original SRGAN paper by [Ledig et al. 2017](https://arxiv.org/abs/1609.04802v5) calculates *Content Loss* based on the ReLU activation layers of the pre-trained 19 layer VGG network.\n",
    "The implementation below is less advanced, simply using a pixel-wise [Mean Squared Error (MSE) loss](https://keras.io/losses/#mean_squared_error) as the *Content Loss*.\n",
    "Specifically, the *Content Loss* is calculated as the MSE difference between the output of the generator model (i.e. the predicted Super Resolution Image) and that of the groundtruth image (i.e. the true High Resolution Image).\n",
    "\n",
    "The *Adversarial Loss* or *Generative Loss* (confusing I know) is the same as in the original SRGAN paper.\n",
    "It is defined based on the probabilities of the discriminator believing that the reconstructed Super Resolution Image is a natural High Resolution Image.\n",
    "The implementation below uses the [Binary CrossEntropy loss](https://keras.io/losses/#binary_crossentropy).\n",
    "Specifically, this *Adversarial Loss* is calculated between the output of the discriminator model (a value between 0 and 1) and that of the groundtruth label (a boolean value of either 0 or 1).\n",
    "\n",
    "Source code for the implementations of these loss functions in Keras can be found at https://github.com/keras-team/keras/blob/master/keras/losses.py.\n",
    "\n",
    "![Perceptual Loss in a Super Resolution Generative Adversarial Network](https://yuml.me/69dc9a87.png)\n",
    "\n",
    "<!--\n",
    "[LowRes-Inputs]-Generator>[SuperResolution_DEM]\n",
    "[SuperResolution_DEM]-.->[note:Content-Loss|MeanSquaredError{bg:yellow}]\n",
    "[HighRes-Groundtruth_DEM]-.->[note:Content-Loss]\n",
    "[SuperResolution_DEM]-Discriminator>[False_or_True_Prediction]\n",
    "[HighRes-Groundtruth_DEM]-Discriminator>[False_or_True_Prediction]\n",
    "[False_or_True_Prediction]<->[False_or_True_Label]\n",
    "[False_or_True_Prediction]-.->[note:Adversarial-Loss|BinaryCrossEntropy{bg:yellow}]\n",
    "[False_or_True_Label]-.->[note:Adversarial-Loss]\n",
    "[note:Content-Loss]-.->[note:Perceptual-Loss{bg:gold}]\n",
    "[note:Adversarial-Loss]-.->[note:Perceptual-Loss{bg:gold}]\n",
    "-->"
   ]
  },
  {
   "cell_type": "code",
   "execution_count": 9,
   "metadata": {
    "lines_to_next_cell": 2
   },
   "outputs": [],
   "source": [
    "def compile_srgan_model(\n",
    "    g_network: keras.engine.network.Network,\n",
    "    d_network: keras.engine.network.Network,\n",
    "    metrics: typing.Dict[str, str] = None,\n",
    ") -> typing.Dict[str, keras.engine.training.Model]:\n",
    "    \"\"\"\n",
    "    Creates a Super Resolution Generative Adversarial Network (SRGAN)\n",
    "    by joining a generator network with a discriminator network.\n",
    "\n",
    "    Returns a dictionary containing:\n",
    "    1) generator model (trainable, not compiled)\n",
    "    2) discriminator model (trainable, compiled)\n",
    "    3) srgan model (trainable generator, untrainable discriminator, compiled)\n",
    "\n",
    "    The SRGAN model will be compiled with an optimizer (e.g. Adam)\n",
    "    and have separate loss functions and metrics for its\n",
    "    generator and discriminator component.\n",
    "\n",
    "    >>> metrics = {\"generator_network\": 'mse', \"discriminator_network\": 'accuracy'}\n",
    "    >>> models = compile_srgan_model(\n",
    "    ...     g_network=generator_network(),\n",
    "    ...     d_network=discriminator_network(),\n",
    "    ...     metrics=metrics,\n",
    "    ... )\n",
    "    >>> models['discriminator_model'].trainable\n",
    "    True\n",
    "    >>> models['srgan_model'].get_layer(name='generator_network').trainable\n",
    "    True\n",
    "    >>> models['srgan_model'].get_layer(name='discriminator_network').trainable\n",
    "    False\n",
    "    >>> models['srgan_model'].count_params()\n",
    "    8442626\n",
    "    \"\"\"\n",
    "\n",
    "    # Check that our neural networks are named properly\n",
    "    assert g_network.name == \"generator_network\"\n",
    "    assert d_network.name == \"discriminator_network\"\n",
    "    assert g_network.trainable == True  # check that generator is trainable\n",
    "    assert d_network.trainable == True  # check that discriminator is trainable\n",
    "\n",
    "    ## Both trainable\n",
    "    # Create keras models (trainable) out of the networks (graph only)\n",
    "    g_model = Model(\n",
    "        inputs=g_network.inputs, outputs=g_network.outputs, name=\"generator_model\"\n",
    "    )\n",
    "    d_model = Model(\n",
    "        inputs=d_network.inputs, outputs=d_network.outputs, name=\"discriminator_model\"\n",
    "    )\n",
    "    d_model.compile(\n",
    "        optimizer=keras.optimizers.Adam(lr=0.001),\n",
    "        loss={\"discriminator_output\": keras.losses.binary_crossentropy},\n",
    "    )\n",
    "\n",
    "    ## One trainable (generator), one untrainable (discriminator)\n",
    "    # Connect Generator Network to Discriminator Network\n",
    "    g_out = g_network(inputs=g_network.inputs)  # g_in --(g_network)--> g_out\n",
    "    d_out = d_network(inputs=g_out)  # g_out --(d_network)--> d_out\n",
    "\n",
    "    # Create and Compile the Super Resolution Generative Adversarial Network Model!\n",
    "    model = Model(inputs=g_network.inputs, outputs=[g_out, d_out])\n",
    "    model.get_layer(\n",
    "        name=\"discriminator_network\"\n",
    "    ).trainable = False  # combined model should not train discriminator\n",
    "    model.compile(\n",
    "        optimizer=keras.optimizers.Adam(lr=0.001),\n",
    "        loss={\n",
    "            \"generator_network\": keras.losses.mean_squared_error,\n",
    "            \"discriminator_network\": keras.losses.binary_crossentropy,\n",
    "        },\n",
    "        metrics=metrics,\n",
    "    )\n",
    "\n",
    "    return {\n",
    "        \"generator_model\": g_model,\n",
    "        \"discriminator_model\": d_model,\n",
    "        \"srgan_model\": model,\n",
    "    }"
   ]
  },
  {
   "cell_type": "code",
   "execution_count": 10,
   "metadata": {
    "lines_to_next_cell": 2
   },
   "outputs": [],
   "source": [
    "def psnr(y_true: np.ndarray, y_pred: np.ndarray) -> np.ndarray:\n",
    "    \"\"\"\n",
    "    Peak Signal-Noise Ratio (PSNR) metric.\n",
    "    See https://en.wikipedia.org/wiki/Peak_signal-to-noise_ratio#Definition\n",
    "\n",
    "    >>> y_true, y_pred = np.ones(shape=(3, 3)), np.full(shape=(3, 3), fill_value=2)\n",
    "    >>> K.eval(psnr(y_true=y_true, y_pred=y_pred))\n",
    "    array([221.80709678, 221.80709678, 221.80709678])\n",
    "    \"\"\"\n",
    "\n",
    "    mse = (\n",
    "        K.mean(K.square(K.np.subtract(y_pred, y_true)), axis=-1) + K.epsilon()\n",
    "    )  # add epsilon to prevent zero division\n",
    "    return K.np.multiply(\n",
    "        20, K.log(2 ** 16 / K.sqrt(mse))\n",
    "    )  # setting MAX_I as 2^16, i.e. max for int16"
   ]
  },
  {
   "cell_type": "code",
   "execution_count": 11,
   "metadata": {},
   "outputs": [
    {
     "name": "stdout",
     "output_type": "stream",
     "text": [
      "__________________________________________________________________________________________________\n",
      "Layer (type)                    Output Shape         Param #     Connected to                     \n",
      "==================================================================================================\n",
      "input_1 (InputLayer)            (None, 10, 10, 1)    0                                            \n",
      "__________________________________________________________________________________________________\n",
      "input_2 (InputLayer)            (None, 100, 100, 1)  0                                            \n",
      "__________________________________________________________________________________________________\n",
      "input_3 (InputLayer)            (None, 20, 20, 1)    0                                            \n",
      "__________________________________________________________________________________________________\n",
      "generator_network (Network)     (None, 32, 32, 1)    1614593     input_1[0][0]                    \n",
      "                                                                 input_2[0][0]                    \n",
      "                                                                 input_3[0][0]                    \n",
      "__________________________________________________________________________________________________\n",
      "discriminator_network (Network) (None, 1)            6828033     generator_network[1][0]          \n",
      "==================================================================================================\n",
      "Total params: 8,442,626\n",
      "Trainable params: 1,610,369\n",
      "Non-trainable params: 6,832,257\n",
      "__________________________________________________________________________________________________\n"
     ]
    }
   ],
   "source": [
    "K.clear_session()  # Reset Keras/Tensorflow graph\n",
    "metrics = {\"generator_network\": psnr, \"discriminator_network\": \"accuracy\"}\n",
    "models = compile_srgan_model(\n",
    "    g_network=generator_network(), d_network=discriminator_network(), metrics=metrics\n",
    ")\n",
    "models[\"srgan_model\"].summary()"
   ]
  },
  {
   "cell_type": "markdown",
   "metadata": {},
   "source": [
    "## 3. Train model\n",
    "\n",
    "[Gherkin](https://en.wikipedia.org/wiki/Gherkin_(language))/Plain English statement at what the Super-Resolution Generative Adversarial Network below does\n",
    "\n",
    "```gherkin\n",
    "    # language: en\n",
    "    Feature: SRGAN DeepBedMap\n",
    "      In order to create a great map of Antarctica's bed\n",
    "      As a data scientist,\n",
    "      We want a model that produces realistic images from many open datasets\n",
    "\n",
    "      Scenario: Train discriminator to beat generator\n",
    "        Given fake generated images from a generator\n",
    "          And real groundtruth images\n",
    "         When the two sets of images are fed into the discriminator\n",
    "         Then the discriminator should know the fakes from the real images\n",
    "\n",
    "      Scenario: Train generator to fool discriminator\n",
    "        Given what we think the discriminator believes is real\n",
    "         When our inputs are fed into the super resolution model\n",
    "         Then the generator should create a more authentic looking image\n",
    "```"
   ]
  },
  {
   "cell_type": "code",
   "execution_count": 12,
   "metadata": {
    "lines_to_next_cell": 2
   },
   "outputs": [],
   "source": [
    "def train_discriminator(\n",
    "    models: typing.Dict[str, keras.engine.training.Model],\n",
    "    generator_inputs: typing.List[np.ndarray],\n",
    "    groundtruth_images: np.ndarray,\n",
    "    verbose: int = 1,\n",
    ") -> (typing.Dict[str, keras.engine.training.Model], list):\n",
    "    \"\"\"\n",
    "    Trains the Discriminator within a Super Resolution Generative Adversarial Network.\n",
    "    Discriminator is trainable, Generator is not trained (only produces predictions).\n",
    "\n",
    "    Steps:\n",
    "    - Generator produces fake images\n",
    "    - Fake images combined with real groundtruth images\n",
    "    - Discriminator trained with these images and their Fake(0)/Real(1) labels\n",
    "\n",
    "    >>> generator_inputs = [\n",
    "    ...     np.random.RandomState(seed=42).rand(32, s, s, 1) for s in [10, 100, 20]\n",
    "    ... ]\n",
    "    >>> groundtruth_images = np.random.RandomState(seed=42).rand(32,32,32,1)\n",
    "    >>> models = compile_srgan_model(\n",
    "    ...     g_network=generator_network(), d_network=discriminator_network()\n",
    "    ... )\n",
    "\n",
    "    >>> d_weight0 = K.eval(models['discriminator_model'].weights[0][0,0,0,0])\n",
    "    >>> _, _ = train_discriminator(\n",
    "    ...     models=models,\n",
    "    ...     generator_inputs=generator_inputs,\n",
    "    ...     groundtruth_images=groundtruth_images,\n",
    "    ...     verbose=0,\n",
    "    ... )\n",
    "    >>> d_weight1 = K.eval(models['discriminator_model'].weights[0][0,0,0,0])\n",
    "\n",
    "    >>> d_weight0 != d_weight1  #check that training has occurred (i.e. weights changed)\n",
    "    True\n",
    "    \"\"\"\n",
    "\n",
    "    # hardcoded check that we are passing in 3 numpy arrays as input\n",
    "    assert len(generator_inputs) == 3\n",
    "    # check that X_data and W1_data have same length (batch size)\n",
    "    assert generator_inputs[0].shape[0] == generator_inputs[1].shape[0]\n",
    "    # check that X_data and W2_data have same length (batch size)\n",
    "    assert generator_inputs[0].shape[0] == generator_inputs[2].shape[0]\n",
    "\n",
    "    # @pytest.fixture\n",
    "    g_model = models[\"generator_model\"]\n",
    "    d_model = models[\"discriminator_model\"]\n",
    "\n",
    "    # @given(\"fake generated images from a generator\")\n",
    "    fake_images = g_model.predict(x=generator_inputs, batch_size=32)\n",
    "    fake_labels = np.zeros(shape=len(generator_inputs[0]))\n",
    "\n",
    "    # @given(\"real groundtruth images\")\n",
    "    real_images = groundtruth_images  # groundtruth images i.e. Y_data\n",
    "    real_labels = np.ones(shape=len(groundtruth_images))\n",
    "\n",
    "    # @when(\"the two sets of images are fed into the discriminator\")\n",
    "    images = np.concatenate([fake_images, real_images])\n",
    "    labels = np.concatenate([fake_labels, real_labels])\n",
    "    assert d_model.trainable == True\n",
    "    d_metrics = d_model.fit(\n",
    "        x=images, y=labels, epochs=1, batch_size=32, shuffle=True, verbose=verbose\n",
    "    ).history\n",
    "\n",
    "    # @then(\"the discriminator should know the fakes from the real images\")\n",
    "    # assert d_weight0 != d_weight1  # check that training occurred i.e. weights changed\n",
    "\n",
    "    return models, d_metrics[\"loss\"][0]"
   ]
  },
  {
   "cell_type": "code",
   "execution_count": 13,
   "metadata": {
    "lines_to_next_cell": 2
   },
   "outputs": [],
   "source": [
    "def train_generator(\n",
    "    models: typing.Dict[str, keras.engine.training.Model],\n",
    "    generator_inputs: typing.List[np.ndarray],\n",
    "    groundtruth_images: np.ndarray,\n",
    "    verbose: int = 1,\n",
    ") -> (typing.Dict[str, keras.engine.training.Model], list):\n",
    "    \"\"\"\n",
    "    Trains the Generator within a Super Resolution Generative Adversarial Network.\n",
    "    Discriminator is not trainable, Generator is trained.\n",
    "\n",
    "    Steps:\n",
    "    - Labels of the SRGAN output are set to Real(1)\n",
    "    - Generator is trained to match these Real(1) labels\n",
    "\n",
    "    >>> generator_inputs = [\n",
    "    ...     np.random.RandomState(seed=42).rand(32, s, s, 1) for s in [10, 100, 20]\n",
    "    ... ]\n",
    "    >>> groundtruth_images = np.random.RandomState(seed=42).rand(32,32,32,1)\n",
    "    >>> models = compile_srgan_model(\n",
    "    ...     g_network=generator_network(), d_network=discriminator_network()\n",
    "    ... )\n",
    "\n",
    "    >>> g_weight0 = K.eval(models['generator_model'].weights[0][0,0,0,0])\n",
    "    >>> _, _ = train_generator(\n",
    "    ...     models=models,\n",
    "    ...     generator_inputs=generator_inputs,\n",
    "    ...     groundtruth_images=groundtruth_images,\n",
    "    ...     verbose=0,\n",
    "    ... )\n",
    "    >>> g_weight1 = K.eval(models['generator_model'].weights[0][0,0,0,0])\n",
    "\n",
    "    >>> g_weight0 != g_weight1  #check that training has occurred (i.e. weights changed)\n",
    "    True\n",
    "    \"\"\"\n",
    "\n",
    "    # @pytest.fixture\n",
    "    srgan_model = models[\"srgan_model\"]\n",
    "\n",
    "    # @given(\"what we think the discriminator believes is real\")\n",
    "    true_labels = np.ones(shape=len(generator_inputs[0]))\n",
    "\n",
    "    # @when(\"our inputs are fed into the super resolution model\")\n",
    "    assert srgan_model.get_layer(name=\"discriminator_network\").trainable == False\n",
    "    g_metrics = srgan_model.fit(\n",
    "        x=generator_inputs,\n",
    "        y={\n",
    "            \"generator_network\": groundtruth_images,\n",
    "            \"discriminator_network\": true_labels,\n",
    "        },\n",
    "        batch_size=32,\n",
    "        verbose=verbose,\n",
    "    ).history\n",
    "\n",
    "    # @then(\"the generator should create a more authentic looking image\")\n",
    "    # assert g_weight0 != g_weight1  # check that training occurred i.e. weights changed\n",
    "\n",
    "    return models, [m[0] for m in g_metrics.values()]"
   ]
  },
  {
   "cell_type": "code",
   "execution_count": 14,
   "metadata": {},
   "outputs": [
    {
     "data": {
      "image/png": "[encoded data removed]",
      "text/plain": [
       "<Figure size 1152x648 with 6 Axes>"
      ]
     },
     "metadata": {
      "needs_background": "light"
     },
     "output_type": "display_data"
    },
    {
     "name": "stderr",
     "output_type": "stream",
     "text": [
      " 23%|██▎       | 23/100 [04:30<13:42, 10.68s/it, discriminator_network_loss_actual=0.000428, loss=7.17e+3, generator_network_loss=7.17e+3, discriminator_network_loss=5.55, generator_network_psnr=153, discriminator_network_acc=0.138, val_discriminator_network_loss_actual=0.000145, val_loss=1.03e+4, val_generator_network_loss=1.03e+4, val_discriminator_network_loss=2.99, val_generator_network_psnr=148, val_discriminator_network_acc=0.0484]"
     ]
    },
    {
     "name": "stdout",
     "output_type": "stream",
     "text": [
      "Epoch 1/1\n",
      "4712/4712 [==============================] - 4s 760us/step - loss: 0.0782\n",
      "124/124 [==============================] - 0s 252us/step\n",
      "Epoch 1/1\n",
      "1760/2356 [=====================>........] - ETA: 1s - loss: 7390.5732 - generator_network_loss: 7385.3037 - discriminator_network_loss: 5.2696 - generator_network_psnr: 151.9436 - discriminator_network_acc: 0.1920"
     ]
    }
   ],
   "source": [
    "epochs = 100\n",
    "with tqdm.trange(epochs) as t:\n",
    "    metric_names = [\"discriminator_network_loss_actual\"] + models[\n",
    "        \"srgan_model\"\n",
    "    ].metrics_names\n",
    "    columns = metric_names + [f\"val_{metric_name}\" for metric_name in metric_names]\n",
    "    dataframe = pd.DataFrame(index=np.arange(0, epochs), columns=columns)\n",
    "    for i in t:\n",
    "        ## Part 1 - Train Discriminator\n",
    "        _, d_train_loss = train_discriminator(\n",
    "            models=models,\n",
    "            generator_inputs=[X_train, W1_train, W2_train],\n",
    "            groundtruth_images=Y_train,\n",
    "        )\n",
    "        d_dev_loss = models[\"discriminator_model\"].evaluate(\n",
    "            x=models[\"generator_model\"].predict(\n",
    "                x=[X_dev, W1_dev, W2_dev], batch_size=32\n",
    "            ),\n",
    "            y=np.zeros(shape=len(X_dev)),\n",
    "        )\n",
    "\n",
    "        ## Part 2 - Train Generator\n",
    "        _, g_train_metrics = train_generator(\n",
    "            models=models,\n",
    "            generator_inputs=[X_train, W1_train, W2_train],\n",
    "            groundtruth_images=Y_train,\n",
    "        )\n",
    "        g_dev_metrics = models[\"srgan_model\"].evaluate(\n",
    "            x=[X_dev, W1_dev, W2_dev],\n",
    "            y={\n",
    "                \"generator_network\": Y_dev,\n",
    "                \"discriminator_network\": np.ones(shape=len(X_dev)),\n",
    "            },\n",
    "        )\n",
    "\n",
    "        ## Plot loss and metric information using pandas and livelossplot\n",
    "        dataframe.loc[i] = (\n",
    "            [d_train_loss] + g_train_metrics + [d_dev_loss] + g_dev_metrics\n",
    "        )\n",
    "        livelossplot.draw_plot(\n",
    "            logs=dataframe.to_dict(orient=\"records\"),\n",
    "            metrics=metric_names,\n",
    "            max_cols=3,\n",
    "            figsize=(16, 9),\n",
    "            max_epoch=epochs,\n",
    "        )\n",
    "        t.set_postfix(ordered_dict=dataframe.loc[i].to_dict())\n",
    "        experiment.log_metrics(dic=dataframe.loc[i].to_dict(), step=i)"
   ]
  },
  {
   "cell_type": "code",
   "execution_count": 15,
   "metadata": {},
   "outputs": [],
   "source": [
    "model = models[\"generator_model\"]"
   ]
  },
  {
   "cell_type": "code",
   "execution_count": 16,
   "metadata": {},
   "outputs": [],
   "source": [
    "os.makedirs(name=\"model/weights\", exist_ok=True)\n",
    "# generator model's parameter weights and architecture\n",
    "model.save(filepath=\"model/weights/srgan_generator_model.hdf5\")\n",
    "# just the model weights\n",
    "model.save_weights(filepath=\"model/weights/srgan_generator_model_weights.hdf5\")\n",
    "# just the model architecture\n",
    "with open(\"model/weights/srgan_generator_model_architecture.json\", \"w\") as json_file:\n",
    "    json_file.write(model.to_json(indent=2))\n",
    "\n",
    "# Upload model weights file to Comet.ML and finish Comet.ML experiment\n",
    "experiment.log_asset(\n",
    "    file_path=\"model/weights/srgan_generator_model_weights.hdf5\",\n",
    "    file_name=\"srgan_generator_model_weights\",\n",
    ")"
   ]
  },
  {
   "cell_type": "markdown",
   "metadata": {},
   "source": [
    "## 4. Evaluate model"
   ]
  },
  {
   "cell_type": "markdown",
   "metadata": {},
   "source": [
    "### Evaluation on independent test set"
   ]
  },
  {
   "cell_type": "code",
   "execution_count": 17,
   "metadata": {
    "lines_to_next_cell": 2
   },
   "outputs": [],
   "source": [
    "def get_deepbedmap_test_result(test_filepath: str = \"highres/2007tx\"):\n",
    "    \"\"\"\n",
    "    Gets Root Mean Squared Error of elevation difference between\n",
    "    DeepBedMap topography and reference groundtruth xyz tracks\n",
    "    at a particular test region\n",
    "    \"\"\"\n",
    "    deepbedmap = _load_ipynb_modules(\"deepbedmap.ipynb\")\n",
    "\n",
    "    # Get groundtruth images, window_bounds and neural network input datasets\n",
    "    groundtruth, window_bound = deepbedmap.get_image_and_bounds(f\"{test_filepath}.nc\")\n",
    "    X_tile, W1_tile, W2_tile = deepbedmap.get_deepbedmap_model_inputs(\n",
    "        window_bound=window_bound\n",
    "    )\n",
    "\n",
    "    # Run input datasets through trained neural network model\n",
    "    model = deepbedmap.load_trained_model(model_inputs=(X_tile, W1_tile, W2_tile))\n",
    "    Y_hat = model.predict(x=[X_tile, W1_tile, W2_tile], verbose=1)\n",
    "\n",
    "    # Save infered deepbedmap to grid file(s)\n",
    "    deepbedmap.save_array_to_grid(\n",
    "        window_bound=window_bound, array=Y_hat, outfilepath=\"model/deepbedmap3\"\n",
    "    )\n",
    "\n",
    "    # Load xyz table for test region\n",
    "    data_prep = _load_ipynb_modules(\"data_prep.ipynb\")\n",
    "    track_test = data_prep.ascii_to_xyz(pipeline_file=f\"{test_filepath}.json\")\n",
    "    track_test.to_csv(\"track_test.xyz\", sep=\"\\t\", index=False)\n",
    "\n",
    "    # Get the elevation (z) value at specified x, y points along the groundtruth track\n",
    "    !gmt grdtrack track_test.xyz -Gmodel/deepbedmap3.nc -h1 -i0,1,2 > track_deepbedmap3.xyzi\n",
    "    df_deepbedmap3 = pd.read_table(\n",
    "        \"track_deepbedmap3.xyzi\", header=1, names=[\"x\", \"y\", \"z\", \"z_interpolated\"]\n",
    "    )\n",
    "\n",
    "    # Calculate elevation error between groundtruth xyz tracks and deepbedmap\n",
    "    df_deepbedmap3[\"error\"] = df_deepbedmap3.z_interpolated - df_deepbedmap3.z\n",
    "    rmse_deepbedmap3 = (df_deepbedmap3.error ** 2).mean() ** 0.5\n",
    "\n",
    "    return rmse_deepbedmap3"
   ]
  },
  {
   "cell_type": "code",
   "execution_count": 18,
   "metadata": {},
   "outputs": [
    {
     "name": "stdout",
     "output_type": "stream",
     "text": [
      "Tiling: lowres/bedmap2_bed.tif\n",
      "Tiling: misc/REMA_100m_dem.tif\n",
      "Tiling: misc/MEaSUREs_IceFlowSpeed_450m.tif\n",
      "1/1 [==============================] - 1s 1s/step\n",
      "Experiment yielded Root Mean Square Error of 41.31 on test set\n"
     ]
    }
   ],
   "source": [
    "rmse_test = get_deepbedmap_test_result()\n",
    "print(f\"Experiment yielded Root Mean Square Error of {rmse_test:.2f} on test set\")\n",
    "experiment.log_metric(name=\"rmse_test\", value=rmse_test)"
   ]
  },
  {
   "cell_type": "code",
   "execution_count": 19,
   "metadata": {},
   "outputs": [
    {
     "name": "stderr",
     "output_type": "stream",
     "text": [
      "COMET INFO: Uploading stats to Comet before program termination (may take several seconds)\n",
      "COMET INFO: Experiment is live on comet.ml https://www.comet.ml/weiji14/deepbedmap/5f6ab34b298b4f9d8cb61816ba284abe\n",
      "\n"
     ]
    }
   ],
   "source": [
    "experiment.end()"
   ]
  }
 ],
 "metadata": {
  "jupytext": {
   "formats": "ipynb,py:percent",
   "text_representation": {
    "extension": ".py",
    "format_name": "percent",
    "format_version": "1.2",
    "jupytext_version": "0.8.6"
   }
  },
  "kernelspec": {
   "display_name": "deepbedmap",
   "language": "python",
   "name": "deepbedmap"
  },
  "language_info": {
   "codemirror_mode": {
    "name": "ipython",
    "version": 3
   },
   "file_extension": ".py",
   "mimetype": "text/x-python",
   "name": "python",
   "nbconvert_exporter": "python",
   "pygments_lexer": "ipython3",
   "version": "3.6.6"
  }
 },
 "nbformat": 4,
 "nbformat_minor": 2
}
