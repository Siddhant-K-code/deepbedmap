{
 "cells": [
  {
   "cell_type": "markdown",
   "metadata": {},
   "source": [
    "# Super-Resolution Convolutional Neural Network training\n",
    "\n",
    "Here in this jupyter notebook, we will train a super-resolution convolutional neural network (SRCNN), to create high-resolution bed Digital Elevation Model(DEM) from a low-resolution DEM.\n",
    "In addition to that, we use additional correlated inputs that can also tell us something about the bed topography.\n",
    "\n",
    "<img src=\"http://yuml.me/diagram/scruffy;dir:LR/class/[BEDMAP2 (1000m)] -&gt; [SRCNN model], [REMA (200m)] -&gt; [SRCNN model], [MEASURES Ice Flow Velocity (450m)] -&gt; [SRCNN model], [SRCNN model] -&gt; [High res bed DEM (250m)]\" alt=\"3 input FSRCNN model\"/>"
   ]
  },
  {
   "cell_type": "markdown",
   "metadata": {},
   "source": [
    "## 0. Setup libraries"
   ]
  },
  {
   "cell_type": "code",
   "execution_count": 1,
   "metadata": {},
   "outputs": [
    {
     "name": "stderr",
     "output_type": "stream",
     "text": [
      "Using TensorFlow backend.\n"
     ]
    },
    {
     "name": "stdout",
     "output_type": "stream",
     "text": [
      "Python       : 3.6.6 | packaged by conda-forge | (default, Jul 26 2018, 09:53:17) \n",
      "Numpy        : 1.14.5\n",
      "Keras        : 2.2.2\n",
      "Tensorflow   : 1.10.1\n"
     ]
    }
   ],
   "source": [
    "import os\n",
    "import random\n",
    "import sys\n",
    "\n",
    "import matplotlib.pyplot as plt\n",
    "import numpy as np\n",
    "import quilt\n",
    "import skimage.transform\n",
    "%matplotlib inline\n",
    "\n",
    "import keras\n",
    "from keras import backend as K\n",
    "from keras.layers import Input, Concatenate, Conv2D, Conv2DTranspose, Lambda\n",
    "from keras.layers.advanced_activations import PReLU\n",
    "from keras.models import Model\n",
    "from livelossplot import PlotLossesKeras\n",
    "\n",
    "print('Python       :', sys.version.split('\\n')[0])\n",
    "print('Numpy        :', np.__version__)\n",
    "print('Keras        :', keras.__version__)\n",
    "print('Tensorflow   :', K.tf.__version__)"
   ]
  },
  {
   "cell_type": "code",
   "execution_count": 2,
   "metadata": {},
   "outputs": [],
   "source": [
    "# Set seed values\n",
    "seed = 42\n",
    "random.seed = seed\n",
    "np.random.seed(seed=seed)\n",
    "K.tf.set_random_seed(seed=seed)"
   ]
  },
  {
   "cell_type": "markdown",
   "metadata": {},
   "source": [
    "## 1. Load data"
   ]
  },
  {
   "cell_type": "code",
   "execution_count": 3,
   "metadata": {},
   "outputs": [
    {
     "name": "stdout",
     "output_type": "stream",
     "text": [
      "Downloading package metadata...\n",
      "weiji14/deepbedmap/model/train already installed.\n"
     ]
    },
    {
     "name": "stdin",
     "output_type": "stream",
     "text": [
      "Overwrite? (y/n)  y\n"
     ]
    },
    {
     "name": "stdout",
     "output_type": "stream",
     "text": [
      "Fragments already downloaded\n"
     ]
    }
   ],
   "source": [
    "hash = '09cc7e2ae732f3ff09f86cb18e359fdde7fbdbdf7293b5b3c20ad83788dcef19'\n",
    "quilt.install(package='weiji14/deepbedmap/model/train', hash=hash, force=False)\n",
    "pkg = quilt.load(pkginfo='weiji14/deepbedmap', hash=hash)"
   ]
  },
  {
   "cell_type": "code",
   "execution_count": 4,
   "metadata": {},
   "outputs": [
    {
     "name": "stdout",
     "output_type": "stream",
     "text": [
      "(371, 40, 40, 1) (371, 17, 17, 1) (371, 8, 8, 1) (371, 32, 32, 1)\n"
     ]
    }
   ],
   "source": [
    "W1_data = pkg.model.train.W1_data()  #miscellaneous data REMA\n",
    "W2_data = pkg.model.train.W2_data()  #miscellaneous data MEASURES Ice Flow\n",
    "X_data = pkg.model.train.X_data()  #low resolution BEDMAP2\n",
    "Y_data = pkg.model.train.Y_data()  #high resolution groundtruth\n",
    "#W1_data = np.load(file=\"model/train/W1_data.npy\")\n",
    "#W2_data = np.load(file=\"model/train/W2_data.npy\")\n",
    "#X_data = np.load(file=\"model/train/X_data.npy\")\n",
    "#Y_data = np.load(file=\"model/train/Y_data.npy\")\n",
    "print(W1_data.shape, W2_data.shape, X_data.shape, Y_data.shape)"
   ]
  },
  {
   "cell_type": "markdown",
   "metadata": {},
   "source": [
    "## 2. Architect model\n",
    "\n",
    "Fast SRCNN model based on [Dong et al. 2016](https://arxiv.org/abs/1608.00367).\n",
    "Original Matlab and Caffe code from paper is [here](http://mmlab.ie.cuhk.edu.hk/projects/FSRCNN.html).\n",
    "Keras implementation below takes some hints from https://github.com/GeorgeSeif/FSRCNN-Keras.\n",
    "\n",
    "![FSRCNN model visualization](https://arxiv-sanity-sanity-production.s3.amazonaws.com/render-output/391726/x2.png)"
   ]
  },
  {
   "cell_type": "code",
   "execution_count": 5,
   "metadata": {},
   "outputs": [],
   "source": [
    "def fsrcnn_model(input1_shape:tuple=(8,8,1), input2_shape:tuple=(40,40,1), input3_shape:tuple=(17,17,1), scaling:int=4) -> keras.engine.training.Model:\n",
    "    \"\"\"\n",
    "    Modified Fast Super Resolution Convolutional Neural Network (FSRCNN) model.\n",
    "    Takes in two (correlated) inputs instead of just one.\n",
    "    Architected using Keras, with a tensorflow backend.\n",
    "    \n",
    "    Takes an input low-resolution image of shape (8,8,1)\n",
    "    and other relevant input images of shape (40,40,1), (17,17,1).\n",
    "    \n",
    "    Outputs a high-resolution image of shape (64,64,1).\n",
    "    I.e. An 8x scaling factor.\n",
    "    \"\"\"\n",
    "    \n",
    "    ## Input images\n",
    "    inp1 = Input(shape=input1_shape)  #low resolution image\n",
    "    assert(inp1.shape.ndims == 4) #needs to be shape like (?,8,8,1) for 8x8 grid\n",
    "    inp2 = Input(shape=input2_shape)  #other image (e.g. REMA)\n",
    "    assert(inp2.shape.ndims == 4) #needs to be shape like (?,40,40,1) for 40x40 grid\n",
    "    inp3 = Input(shape=input3_shape)  #other image (MEASURES Ice Flow)\n",
    "    assert(inp3.shape.ndims == 4) #needs to be shape like (?,17,17,1) for 17x17 grid\n",
    "    \n",
    "    \n",
    "    ## Pass image through convolution layers\n",
    "    ## FSRCNN(56,12,4), FSRCNN(d,s,m) where d=feature dimension/filters, s=shrinking filters, m=mapping depth\n",
    "    \n",
    "    # 0 part\n",
    "    # Resize inputs to right scale\n",
    "    size = np.array(input1_shape[:2])*scaling  #i.e. [8,8] * 4 = [32,32]\n",
    "    resize_func = lambda images: K.tf.image.resize_nearest_neighbor(images=images, size=size)\n",
    "    inp1r = Lambda(function=resize_func, name=f'nn_resize1')(inp1)\n",
    "    inp2r = Lambda(function=resize_func, name=f'nn_resize2')(inp2)\n",
    "    inp3r = Lambda(function=resize_func, name=f'nn_resize3')(inp3)\n",
    "    \n",
    "    # Concatenate all inputs\n",
    "    #SEE https://distill.pub/2016/deconv-checkerboard/\n",
    "    X = Concatenate()([inp1r, inp2r, inp3r])  #Concatenate all the inputs together\n",
    "    \n",
    "    # 1st part\n",
    "    # feature extraction\n",
    "    X = Conv2D(filters=56, kernel_size=(5,5), strides=(1,1), padding='same', name='conv1')(X)\n",
    "    X = PReLU()(X)\n",
    "    \n",
    "    # 2nd part\n",
    "    # shrinking\n",
    "    X = Conv2D(filters=12, kernel_size=(1,1), strides=(1,1), padding='same', name='conv2')(X)\n",
    "    X = PReLU()(X)\n",
    "    \n",
    "    # non-linear mapping \n",
    "    X = Conv2D(filters=12, kernel_size=(3,3), strides=(1,1), padding='same', name='conv22')(X)\n",
    "    X = PReLU()(X)\n",
    "    X = Conv2D(filters=12, kernel_size=(3,3), strides=(1,1), padding='same', name='conv23')(X)\n",
    "    X = PReLU()(X)\n",
    "    X = Conv2D(filters=12, kernel_size=(3,3), strides=(1,1), padding='same', name='conv24')(X)\n",
    "    X = PReLU()(X)\n",
    "    X = Conv2D(filters=12, kernel_size=(3,3), strides=(1,1), padding='same', name='conv25')(X)\n",
    "    X = PReLU()(X)\n",
    "    \n",
    "    # expanding\n",
    "    X = Conv2D(filters=56, kernel_size=(1,1), strides=(1,1), padding='same', name='conv26')(X)\n",
    "    X = PReLU()(X)\n",
    "    \n",
    "    # 3rd part\n",
    "    # deconvolution\n",
    "    outp = Conv2DTranspose(filters=1, kernel_size=(9,9), strides=(1,1), padding='same', name='conv3')(X)\n",
    "    \n",
    "    # Create model with input low-res image and output prediction\n",
    "    model = Model(inputs=[inp1, inp2, inp3], outputs=[outp])\n",
    "   \n",
    "    return model"
   ]
  },
  {
   "cell_type": "code",
   "execution_count": 6,
   "metadata": {},
   "outputs": [],
   "source": [
    "# Peak Signal-Noise Ratio (PSNR) metric https://en.wikipedia.org/wiki/Peak_signal-to-noise_ratio#Definition\n",
    "def psnr(y_true, y_pred):\n",
    "    mse = K.mean(K.square(y_pred - y_true), axis=-1)\n",
    "    return 20 * K.log(2**16/K.sqrt(mse))  #setting MAX_I as 2^16, i.e. max for int16"
   ]
  },
  {
   "cell_type": "code",
   "execution_count": 7,
   "metadata": {},
   "outputs": [
    {
     "name": "stdout",
     "output_type": "stream",
     "text": [
      "__________________________________________________________________________________________________\n",
      "Layer (type)                    Output Shape         Param #     Connected to                     \n",
      "==================================================================================================\n",
      "input_1 (InputLayer)            (None, 8, 8, 1)      0                                            \n",
      "__________________________________________________________________________________________________\n",
      "input_2 (InputLayer)            (None, 40, 40, 1)    0                                            \n",
      "__________________________________________________________________________________________________\n",
      "input_3 (InputLayer)            (None, 17, 17, 1)    0                                            \n",
      "__________________________________________________________________________________________________\n",
      "nn_resize1 (Lambda)             (None, 32, 32, 1)    0           input_1[0][0]                    \n",
      "__________________________________________________________________________________________________\n",
      "nn_resize2 (Lambda)             (None, 32, 32, 1)    0           input_2[0][0]                    \n",
      "__________________________________________________________________________________________________\n",
      "nn_resize3 (Lambda)             (None, 32, 32, 1)    0           input_3[0][0]                    \n",
      "__________________________________________________________________________________________________\n",
      "concatenate_1 (Concatenate)     (None, 32, 32, 3)    0           nn_resize1[0][0]                 \n",
      "                                                                 nn_resize2[0][0]                 \n",
      "                                                                 nn_resize3[0][0]                 \n",
      "__________________________________________________________________________________________________\n",
      "conv1 (Conv2D)                  (None, 32, 32, 56)   4256        concatenate_1[0][0]              \n",
      "__________________________________________________________________________________________________\n",
      "p_re_lu_1 (PReLU)               (None, 32, 32, 56)   57344       conv1[0][0]                      \n",
      "__________________________________________________________________________________________________\n",
      "conv2 (Conv2D)                  (None, 32, 32, 12)   684         p_re_lu_1[0][0]                  \n",
      "__________________________________________________________________________________________________\n",
      "p_re_lu_2 (PReLU)               (None, 32, 32, 12)   12288       conv2[0][0]                      \n",
      "__________________________________________________________________________________________________\n",
      "conv22 (Conv2D)                 (None, 32, 32, 12)   1308        p_re_lu_2[0][0]                  \n",
      "__________________________________________________________________________________________________\n",
      "p_re_lu_3 (PReLU)               (None, 32, 32, 12)   12288       conv22[0][0]                     \n",
      "__________________________________________________________________________________________________\n",
      "conv23 (Conv2D)                 (None, 32, 32, 12)   1308        p_re_lu_3[0][0]                  \n",
      "__________________________________________________________________________________________________\n",
      "p_re_lu_4 (PReLU)               (None, 32, 32, 12)   12288       conv23[0][0]                     \n",
      "__________________________________________________________________________________________________\n",
      "conv24 (Conv2D)                 (None, 32, 32, 12)   1308        p_re_lu_4[0][0]                  \n",
      "__________________________________________________________________________________________________\n",
      "p_re_lu_5 (PReLU)               (None, 32, 32, 12)   12288       conv24[0][0]                     \n",
      "__________________________________________________________________________________________________\n",
      "conv25 (Conv2D)                 (None, 32, 32, 12)   1308        p_re_lu_5[0][0]                  \n",
      "__________________________________________________________________________________________________\n",
      "p_re_lu_6 (PReLU)               (None, 32, 32, 12)   12288       conv25[0][0]                     \n",
      "__________________________________________________________________________________________________\n",
      "conv26 (Conv2D)                 (None, 32, 32, 56)   728         p_re_lu_6[0][0]                  \n",
      "__________________________________________________________________________________________________\n",
      "p_re_lu_7 (PReLU)               (None, 32, 32, 56)   57344       conv26[0][0]                     \n",
      "__________________________________________________________________________________________________\n",
      "conv3 (Conv2DTranspose)         (None, 32, 32, 1)    4537        p_re_lu_7[0][0]                  \n",
      "==================================================================================================\n",
      "Total params: 191,565\n",
      "Trainable params: 191,565\n",
      "Non-trainable params: 0\n",
      "__________________________________________________________________________________________________\n"
     ]
    }
   ],
   "source": [
    "model = fsrcnn_model()\n",
    "model.summary()\n",
    "model.compile(optimizer=keras.optimizers.Adam(), loss=keras.losses.mse, metrics=[psnr])"
   ]
  },
  {
   "cell_type": "markdown",
   "metadata": {},
   "source": [
    "## 3. Train model"
   ]
  },
  {
   "cell_type": "code",
   "execution_count": 8,
   "metadata": {},
   "outputs": [
    {
     "data": {
      "image/png": "[encoded data removed]",
      "text/plain": [
       "<Figure size 864x576 with 2 Axes>"
      ]
     },
     "metadata": {
      "needs_background": "light"
     },
     "output_type": "display_data"
    },
    {
     "data": {
      "text/plain": [
       "<keras.callbacks.History at 0x7f761e273eb8>"
      ]
     },
     "execution_count": 8,
     "metadata": {},
     "output_type": "execute_result"
    }
   ],
   "source": [
    "tensorboard = keras.callbacks.TensorBoard(log_dir='model/logs', histogram_freq=1, write_graph=True)\n",
    "model.fit(x=[X_data, W1_data, W2_data], y=Y_data, verbose=1, validation_split=0.05, batch_size=32,\n",
    "          epochs=250, callbacks=[tensorboard, PlotLossesKeras(max_cols=2)])"
   ]
  },
  {
   "cell_type": "code",
   "execution_count": 9,
   "metadata": {},
   "outputs": [
    {
     "ename": "ValueError",
     "evalue": "temp",
     "output_type": "error",
     "traceback": [
      "\u001b[0;31m---------------------------------------------------------------------------\u001b[0m",
      "\u001b[0;31mValueError\u001b[0m                                Traceback (most recent call last)",
      "\u001b[0;32m<ipython-input-9-e0db1c0d89c5>\u001b[0m in \u001b[0;36m<module>\u001b[0;34m\u001b[0m\n\u001b[0;32m----> 1\u001b[0;31m \u001b[0;32mraise\u001b[0m \u001b[0mValueError\u001b[0m\u001b[0;34m(\u001b[0m\u001b[0;34m'temp'\u001b[0m\u001b[0;34m)\u001b[0m\u001b[0;34m\u001b[0m\u001b[0m\n\u001b[0m",
      "\u001b[0;31mValueError\u001b[0m: temp"
     ]
    }
   ],
   "source": [
    "raise ValueError('temp')"
   ]
  },
  {
   "cell_type": "markdown",
   "metadata": {},
   "source": [
    "## 4. Evaluate model"
   ]
  },
  {
   "cell_type": "code",
   "execution_count": null,
   "metadata": {},
   "outputs": [],
   "source": [
    "Y_hat = model.predict(x=[X_data, W1_data, W2_data], verbose=1)\n",
    "print(Y_hat.shape, Y_hat.dtype)"
   ]
  },
  {
   "cell_type": "code",
   "execution_count": null,
   "metadata": {},
   "outputs": [],
   "source": [
    "for i in range(5):\n",
    "    try:\n",
    "        id = random.randrange(0,len(X_data))\n",
    "        print(id, X_data[id].shape)\n",
    "        \n",
    "        X_cube = skimage.transform.rescale(image=X_data[id].astype(np.int32), scale=4, order=3, mode='reflect', anti_aliasing=True, multichannel=False)\n",
    "        \n",
    "        fig, axarr = plt.subplots(nrows=1, ncols=5, squeeze=False, figsize=(15,15))\n",
    "        axarr[0, 0].imshow(X_data[id][:,:,0], aspect='equal')  #low resolution original\n",
    "        axarr[0, 1].imshow(X_cube[:,:,0], aspect='equal')      #bicubic interpolation\n",
    "        axarr[0, 2].imshow(W1_data[id][:,:,0], aspect='equal')  #REMA surface DEM\n",
    "        axarr[0, 3].imshow(Y_hat[id][:,:,0], aspect='equal')   #srcnn prediction\n",
    "        axarr[0, 4].imshow(Y_data[id][:,:,0], aspect='equal')  #groundtruth\n",
    "        \n",
    "        axarr[0, 0].set_title('BEDMAP2')\n",
    "        axarr[0, 1].set_title('Bicubic')\n",
    "        axarr[0, 1].set_xlabel(f'PSNR: {round(skimage.measure.compare_psnr(im_true=Y_data[id][:,:,0].astype(np.int32), im_test=X_cube[:,:,0].astype(np.int32)), 2)}')\n",
    "        axarr[0, 2].set_title('REMA')\n",
    "        axarr[0, 3].set_xlabel(f'PSNR: {round(skimage.measure.compare_psnr(im_true=Y_data[id][:,:,0].astype(np.int32), im_test=Y_hat[id][:,:,0].astype(np.int32)),2)}')\n",
    "        axarr[0, 3].set_title('SRCNN')\n",
    "        axarr[0, 4].set_title('Groundtruth')\n",
    "        \n",
    "        plt.show()\n",
    "    except TypeError:\n",
    "        pass"
   ]
  },
  {
   "cell_type": "code",
   "execution_count": null,
   "metadata": {},
   "outputs": [],
   "source": []
  }
 ],
 "metadata": {
  "kernelspec": {
   "display_name": "deepbedmap",
   "language": "python",
   "name": "deepbedmap"
  },
  "language_info": {
   "codemirror_mode": {
    "name": "ipython",
    "version": 3
   },
   "file_extension": ".py",
   "mimetype": "text/x-python",
   "name": "python",
   "nbconvert_exporter": "python",
   "pygments_lexer": "ipython3",
   "version": "3.6.6"
  }
 },
 "nbformat": 4,
 "nbformat_minor": 2
}
