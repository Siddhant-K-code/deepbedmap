{
 "cells": [
  {
   "cell_type": "markdown",
   "metadata": {},
   "source": [
    "# Super-Resolution Convolutional Neural Network training\n",
    "\n",
    "Here in this jupyter notebook, we will train a super-resolution convolutional neural network (SRCNN), to create high-resolution bed Digital Elevation Model(DEM) from a low-resolution DEM.\n",
    "\n",
    "X (low-res DEM) --(f(X), SRCNN)--> Y-hat (predicted high-res DEM) <-(minimize loss)--> Y (groundtruth high-res DEM)"
   ]
  },
  {
   "cell_type": "markdown",
   "metadata": {},
   "source": [
    "## 0. Setup libraries"
   ]
  },
  {
   "cell_type": "code",
   "execution_count": 1,
   "metadata": {},
   "outputs": [
    {
     "name": "stderr",
     "output_type": "stream",
     "text": [
      "Using TensorFlow backend.\n"
     ]
    },
    {
     "name": "stdout",
     "output_type": "stream",
     "text": [
      "Python       : 3.6.6 | packaged by conda-forge | (default, Jul 26 2018, 09:53:17) \n",
      "Numpy        : 1.14.5\n",
      "Keras        : 2.2.2\n"
     ]
    }
   ],
   "source": [
    "import os\n",
    "import random\n",
    "import sys\n",
    "\n",
    "import matplotlib.pyplot as plt\n",
    "import numpy as np\n",
    "import quilt\n",
    "import skimage.transform\n",
    "%matplotlib inline\n",
    "\n",
    "import keras\n",
    "from keras import backend as K\n",
    "from keras.layers import Input, Conv2D, Conv2DTranspose\n",
    "from keras.layers.advanced_activations import PReLU\n",
    "from keras.models import Model\n",
    "from livelossplot import PlotLossesKeras\n",
    "\n",
    "print('Python       :', sys.version.split('\\n')[0])\n",
    "print('Numpy        :', np.__version__)\n",
    "print('Keras        :', keras.__version__)"
   ]
  },
  {
   "cell_type": "code",
   "execution_count": 2,
   "metadata": {},
   "outputs": [],
   "source": [
    "# Set seed values\n",
    "seed = 42\n",
    "random.seed = seed\n",
    "np.random.seed(seed=seed)\n",
    "K.tf.set_random_seed(seed=seed)"
   ]
  },
  {
   "cell_type": "markdown",
   "metadata": {},
   "source": [
    "## 1. Load data"
   ]
  },
  {
   "cell_type": "code",
   "execution_count": 3,
   "metadata": {},
   "outputs": [
    {
     "name": "stdout",
     "output_type": "stream",
     "text": [
      "Downloading package metadata...\n",
      "weiji14/deepbedmap/model/train already installed.\n"
     ]
    },
    {
     "name": "stdin",
     "output_type": "stream",
     "text": [
      "Overwrite? (y/n)  y\n"
     ]
    },
    {
     "name": "stdout",
     "output_type": "stream",
     "text": [
      "Fragments already downloaded\n"
     ]
    }
   ],
   "source": [
    "hash = '9191e638fb64d5a20af1684207a74d0f9f44a9458240cdf01c21fa19935a6e8f'\n",
    "quilt.install(package='weiji14/deepbedmap/model/train', hash=hash, force=False)\n",
    "pkg = quilt.load(pkginfo='weiji14/deepbedmap', hash=hash)"
   ]
  },
  {
   "cell_type": "code",
   "execution_count": 4,
   "metadata": {},
   "outputs": [
    {
     "name": "stdout",
     "output_type": "stream",
     "text": [
      "(371, 8, 8, 1) (371, 32, 32, 1)\n"
     ]
    }
   ],
   "source": [
    "X_data = pkg.model.train.X_data()  #low resolution BEDMAP2\n",
    "Y_data = pkg.model.train.Y_data()  #high resolution groundtruth\n",
    "print(X_data.shape, Y_data.shape)"
   ]
  },
  {
   "cell_type": "markdown",
   "metadata": {},
   "source": [
    "## 2. Architect model\n",
    "\n",
    "Fast SRCNN model based on [Dong et al. 2016](https://arxiv.org/abs/1608.00367).\n",
    "Original Matlab and Caffe code from paper is [here](http://mmlab.ie.cuhk.edu.hk/projects/FSRCNN.html).\n",
    "Keras implementation below takes some hints from https://github.com/GeorgeSeif/FSRCNN-Keras.\n",
    "\n",
    "![FSRCNN model visualization](https://arxiv-sanity-sanity-production.s3.amazonaws.com/render-output/391726/x2.png)"
   ]
  },
  {
   "cell_type": "code",
   "execution_count": 5,
   "metadata": {},
   "outputs": [],
   "source": [
    "def fsrcnn_model(input_shape:tuple=(8,8,1), scaling:int=4):\n",
    "    \"\"\"\n",
    "    Fast Super Resolution Convolutional Neural Network (FSRCNN) model.\n",
    "    Architected using Keras, with a tensorflow backend.\n",
    "    \n",
    "    Takes an input low-resolution image of shape (8,8,1).\n",
    "    Outputs a high-resolution image of shape (64,64,1).\n",
    "    I.e. An 8x scaling factor.\n",
    "    \"\"\"\n",
    "    ## Input low-resolution image\n",
    "    inp = Input(shape=input_shape)\n",
    "    assert(inp.shape.ndims == 4) #needs to be shape like (?,8,8,1) for 8x8 grid\n",
    "    \n",
    "    ## Pass image through convolution layers\n",
    "    ## FSRCNN(56,12,4), FSRCNN(d,s,m) where d=feature dimension/filters, s=shrinking filters, m=mapping depth\n",
    "    \n",
    "    # 1st part\n",
    "    # feature extraction\n",
    "    X = Conv2D(filters=56, kernel_size=(5,5), strides=(1,1), padding='same', name='conv1')(inp)\n",
    "    X = PReLU()(X)\n",
    "    \n",
    "    # 2nd part\n",
    "    # shrinking\n",
    "    X = Conv2D(filters=12, kernel_size=(1,1), strides=(1,1), padding='same', name='conv2')(X)\n",
    "    X = PReLU()(X)\n",
    "    \n",
    "    # non-linear mapping \n",
    "    X = Conv2D(filters=12, kernel_size=(3,3), strides=(1,1), padding='same', name='conv22')(X)\n",
    "    X = PReLU()(X)\n",
    "    X = Conv2D(filters=12, kernel_size=(3,3), strides=(1,1), padding='same', name='conv23')(X)\n",
    "    X = PReLU()(X)\n",
    "    X = Conv2D(filters=12, kernel_size=(3,3), strides=(1,1), padding='same', name='conv24')(X)\n",
    "    X = PReLU()(X)\n",
    "    X = Conv2D(filters=12, kernel_size=(3,3), strides=(1,1), padding='same', name='conv25')(X)\n",
    "    X = PReLU()(X)\n",
    "    \n",
    "    # expanding\n",
    "    X = Conv2D(filters=56, kernel_size=(1,1), strides=(1,1), padding='same', name='conv26')(X)\n",
    "    X = PReLU()(X)\n",
    "    \n",
    "    # 3rd part\n",
    "    # deconvolution\n",
    "    outp = Conv2DTranspose(filters=1, kernel_size=(9,9), strides=(scaling,scaling), padding='same', name='conv3')(X)\n",
    "    \n",
    "    # Create model with input low-res image and output prediction\n",
    "    model = Model(inputs=inp, outputs=[outp])\n",
    "   \n",
    "    return model"
   ]
  },
  {
   "cell_type": "code",
   "execution_count": 6,
   "metadata": {},
   "outputs": [],
   "source": [
    "# Peak Signal-Noise Ratio (PSNR) metric https://en.wikipedia.org/wiki/Peak_signal-to-noise_ratio#Definition\n",
    "def psnr(y_true, y_pred):\n",
    "    mse = K.mean(K.square(y_pred - y_true), axis=-1)\n",
    "    return 20 * K.log(2**16/K.sqrt(mse))  #setting MAX_I as 2^16, i.e. max for int16"
   ]
  },
  {
   "cell_type": "code",
   "execution_count": 7,
   "metadata": {},
   "outputs": [
    {
     "name": "stdout",
     "output_type": "stream",
     "text": [
      "_________________________________________________________________\n",
      "Layer (type)                 Output Shape              Param #   \n",
      "=================================================================\n",
      "input_1 (InputLayer)         (None, 8, 8, 1)           0         \n",
      "_________________________________________________________________\n",
      "conv1 (Conv2D)               (None, 8, 8, 56)          1456      \n",
      "_________________________________________________________________\n",
      "p_re_lu_1 (PReLU)            (None, 8, 8, 56)          3584      \n",
      "_________________________________________________________________\n",
      "conv2 (Conv2D)               (None, 8, 8, 12)          684       \n",
      "_________________________________________________________________\n",
      "p_re_lu_2 (PReLU)            (None, 8, 8, 12)          768       \n",
      "_________________________________________________________________\n",
      "conv22 (Conv2D)              (None, 8, 8, 12)          1308      \n",
      "_________________________________________________________________\n",
      "p_re_lu_3 (PReLU)            (None, 8, 8, 12)          768       \n",
      "_________________________________________________________________\n",
      "conv23 (Conv2D)              (None, 8, 8, 12)          1308      \n",
      "_________________________________________________________________\n",
      "p_re_lu_4 (PReLU)            (None, 8, 8, 12)          768       \n",
      "_________________________________________________________________\n",
      "conv24 (Conv2D)              (None, 8, 8, 12)          1308      \n",
      "_________________________________________________________________\n",
      "p_re_lu_5 (PReLU)            (None, 8, 8, 12)          768       \n",
      "_________________________________________________________________\n",
      "conv25 (Conv2D)              (None, 8, 8, 12)          1308      \n",
      "_________________________________________________________________\n",
      "p_re_lu_6 (PReLU)            (None, 8, 8, 12)          768       \n",
      "_________________________________________________________________\n",
      "conv26 (Conv2D)              (None, 8, 8, 56)          728       \n",
      "_________________________________________________________________\n",
      "p_re_lu_7 (PReLU)            (None, 8, 8, 56)          3584      \n",
      "_________________________________________________________________\n",
      "conv3 (Conv2DTranspose)      (None, 32, 32, 1)         4537      \n",
      "=================================================================\n",
      "Total params: 23,645\n",
      "Trainable params: 23,645\n",
      "Non-trainable params: 0\n",
      "_________________________________________________________________\n"
     ]
    }
   ],
   "source": [
    "model = fsrcnn_model()\n",
    "model.summary()\n",
    "model.compile(optimizer=keras.optimizers.Adam(), loss=keras.losses.mse, metrics=[psnr])"
   ]
  },
  {
   "cell_type": "markdown",
   "metadata": {},
   "source": [
    "## 3. Train model"
   ]
  },
  {
   "cell_type": "code",
   "execution_count": 8,
   "metadata": {},
   "outputs": [
    {
     "data": {
      "image/png": "[encoded data removed]",
      "text/plain": [
       "<Figure size 864x576 with 2 Axes>"
      ]
     },
     "metadata": {
      "needs_background": "light"
     },
     "output_type": "display_data"
    },
    {
     "data": {
      "text/plain": [
       "<keras.callbacks.History at 0x7fe7f71452e8>"
      ]
     },
     "execution_count": 8,
     "metadata": {},
     "output_type": "execute_result"
    }
   ],
   "source": [
    "tensorboard = keras.callbacks.TensorBoard(log_dir='model/logs', histogram_freq=1, write_graph=True)\n",
    "model.fit(x=X_data, y=Y_data, verbose=1, validation_split=0.05, batch_size=32,\n",
    "          epochs=250, callbacks=[tensorboard, PlotLossesKeras(max_cols=2)])"
   ]
  },
  {
   "cell_type": "code",
   "execution_count": 9,
   "metadata": {},
   "outputs": [
    {
     "ename": "ValueError",
     "evalue": "temp",
     "output_type": "error",
     "traceback": [
      "\u001b[0;31m---------------------------------------------------------------------------\u001b[0m",
      "\u001b[0;31mValueError\u001b[0m                                Traceback (most recent call last)",
      "\u001b[0;32m<ipython-input-9-e0db1c0d89c5>\u001b[0m in \u001b[0;36m<module>\u001b[0;34m()\u001b[0m\n\u001b[0;32m----> 1\u001b[0;31m \u001b[0;32mraise\u001b[0m \u001b[0mValueError\u001b[0m\u001b[0;34m(\u001b[0m\u001b[0;34m'temp'\u001b[0m\u001b[0;34m)\u001b[0m\u001b[0;34m\u001b[0m\u001b[0m\n\u001b[0m",
      "\u001b[0;31mValueError\u001b[0m: temp"
     ]
    }
   ],
   "source": [
    "raise ValueError('temp')"
   ]
  },
  {
   "cell_type": "markdown",
   "metadata": {},
   "source": [
    "## 4. Evaluate model"
   ]
  },
  {
   "cell_type": "code",
   "execution_count": null,
   "metadata": {},
   "outputs": [],
   "source": [
    "Y_hat = model.predict(x=X_data, verbose=1)\n",
    "print(Y_hat.shape, Y_hat.dtype)"
   ]
  },
  {
   "cell_type": "code",
   "execution_count": null,
   "metadata": {},
   "outputs": [],
   "source": [
    "for i in range(5):\n",
    "    try:\n",
    "        id = random.randrange(0,len(X_data))\n",
    "        print(id, X_data[id].shape)\n",
    "        \n",
    "        X_cube = skimage.transform.rescale(image=X_data[id].astype(np.int32), scale=4, order=3, mode='reflect', anti_aliasing=True, multichannel=False)\n",
    "        \n",
    "        fig, axarr = plt.subplots(nrows=1, ncols=4, squeeze=False, figsize=(15,15))\n",
    "        axarr[0, 0].imshow(X_data[id][:,:,0], aspect='equal')  #low resolution original\n",
    "        axarr[0, 1].imshow(X_cube[:,:,0], aspect='equal')      #bicubic interpolation\n",
    "        axarr[0, 2].imshow(Y_hat[id][:,:,0], aspect='equal')   #srcnn prediction\n",
    "        axarr[0, 3].imshow(Y_data[id][:,:,0], aspect='equal')  #groundtruth\n",
    "        \n",
    "        axarr[0, 1].set_xlabel(f'PSNR: {round(skimage.measure.compare_psnr(im_true=Y_data[id][:,:,0].astype(np.int32), im_test=X_cube[:,:,0].astype(np.int32)), 2)}')\n",
    "        axarr[0, 2].set_xlabel(f'PSNR: {round(skimage.measure.compare_psnr(im_true=Y_data[id][:,:,0].astype(np.int32), im_test=Y_hat[id][:,:,0].astype(np.int32)),2)}')\n",
    "        \n",
    "        plt.show()\n",
    "    except TypeError:\n",
    "        pass"
   ]
  },
  {
   "cell_type": "code",
   "execution_count": null,
   "metadata": {},
   "outputs": [],
   "source": []
  }
 ],
 "metadata": {
  "kernelspec": {
   "display_name": "deepbedmap",
   "language": "python",
   "name": "deepbedmap"
  },
  "language_info": {
   "codemirror_mode": {
    "name": "ipython",
    "version": 3
   },
   "file_extension": ".py",
   "mimetype": "text/x-python",
   "name": "python",
   "nbconvert_exporter": "python",
   "pygments_lexer": "ipython3",
   "version": "3.6.6"
  }
 },
 "nbformat": 4,
 "nbformat_minor": 2
}
