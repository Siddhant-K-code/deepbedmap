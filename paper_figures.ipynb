{
 "cells": [
  {
   "cell_type": "markdown",
   "metadata": {},
   "source": [
    "# **DeepBedMap paper figures**\n",
    "\n",
    "Code used to produce each figure in the DeepBedMap paper."
   ]
  },
  {
   "cell_type": "code",
   "execution_count": null,
   "metadata": {
    "lines_to_next_cell": 2
   },
   "outputs": [],
   "source": [
    "import os\n",
    "\n",
    "import geopandas as gpd\n",
    "import IPython.display\n",
    "import pandas as pd\n",
    "import pygmt as gmt\n",
    "import rasterio"
    "\n",
    "from paper.figures.PlotNeuralNet.pycore.tikzeng import (\n",
    "    to_head,\n",
    "    to_cor,\n",
    "    to_begin,\n",
    "    to_input,\n",
    "    to_Conv,\n",
    "    # to_ConvConvRelu,\n",
    "    to_Pool,\n",
    "    to_UnPool,\n",
    "    to_ConvRes,\n",
    "    # to_ConvSoftMax,\n",
    "    # to_SoftMax,\n",
    "    to_connection,\n",
    "    to_skip,\n",
    "    to_end,\n",
    "    to_generate,\n",
    ")\n",
    "\n",
   ]
  },
  {
   "cell_type": "markdown",
   "metadata": {},
   "source": [
    "# **Methodology**\n",
    "\n",
    "Uses [PlotNeuralNet](https://github.com/HarisIqbal88/PlotNeuralNet)\n",
    "for drawing convolutional neural network architecture diagram."
   ]
  },
  {
   "cell_type": "markdown",
   "metadata": {},
   "source": [
    "### **Figure 1: DeepBedMap Model Architecture**"
   ]
  },
  {
   "cell_type": "code",
   "execution_count": null,
   "metadata": {},
   "outputs": [],
   "source": [
    "FIG_DIR = os.path.join(\"paper\", \"figures\")\n",
    "arch = [\n",
    "    to_head(os.path.join(FIG_DIR, \"PlotNeuralNet\")),\n",
    "    to_cor(),\n",
    "    to_begin(),\n",
    "    # input\n",
    "    to_input(os.path.join(FIG_DIR, \"ter_bedmap.png\"), to=\"(-1.5,3,0)\", width=3, height=3),\n",
    "    to_input(os.path.join(FIG_DIR, \"REMA-hillshade-rendering-800px-768x768.jpg\"), to=\"(-1.5,0,0)\", width=3, height=3),\n",
    "    to_input(os.path.join(FIG_DIR, \"glac_flowspeed.png\"), to=\"(-1.5,-3,0)\", width=3, height=3),\n",
    "    to_input(os.path.join(FIG_DIR, \"glac_albmap_snowacca.png\"), to=\"(-1.5,-6,0)\", width=3, height=3),\n",
    "\n",
    "    # Input Convolutions\n",
    "    to_Conv(name=\"x\", s_filer=10, n_filer=32, offset=\"(0,3.5,0)\", to=\"(0,0,0)\", width=1.6, height=4, depth=4),\n",
    "    to_Conv(name=\"w1\", s_filer=100, n_filer=32, offset=\"(0,0,0)\", to=\"(0,0,0)\", width=1.6, height=16, depth=16),\n",
    "    to_Conv(name=\"w2\", s_filer=20, n_filer=32, offset=\"(0,-3.5,0)\", to=\"(0,0,0)\", width=1.6, height=8, depth=8),\n",
    "    to_Conv(name=\"w3\", s_filer=10, n_filer=32, offset=\"(0,-5.5,0)\", to=\"(0,0,0)\", width=1.6, height=4, depth=4),\n",
    "    to_Conv(name=\"concat\", s_filer=8, n_filer=128, offset=\"(1.2,0,0)\", to=\"(w1-east)\", width=4.8, height=4, depth=4, caption=\"Concat-enated Inputs\"),\n",
    "    to_connection(of=\"x\", to=\"concat\"),\n",
    "    to_connection(of=\"w1\", to=\"concat\"),\n",
    "    to_connection(of=\"w2\", to=\"concat\"),\n",
    "    to_connection(of=\"w3\", to=\"concat\"),\n",
    "    # RRDB Blocks\n",
    "    to_Conv(name=\"pre-residual\", s_filer=8, n_filer=64, offset=\"(1.2,0,0)\", to=\"(concat-east)\", width=3.2, height=4, depth=4, caption=\"Pre-residual\"),\n",
    "    to_connection(of=\"concat\", to=\"pre-residual\"),\n",
    "    to_Pool(name=\"ghost-skip1\", offset=\"(0.4,0,0)\", to=\"(pre-residual-east)\", width=0, height=0.1, depth=0.1, opacity=0.0),\n",
    "\n",
    "    to_Conv(name=\"block1\", s_filer=8, n_filer=64, offset=\"(0.8,0,0)\", to=\"(pre-residual-east)\", caption=\"Block 1\", width=8, height=4, depth=4),\n",
    "    to_connection(of=\"pre-residual\", to=\"block1\"),\n",
    "    to_Pool(name=\"ghost-block\", offset=\"(0.8,0,0)\", to=\"(block1-east)\", caption=\"\\dots\", width=0, height=0.1, depth=0.1, opacity=0.0),\n",
    "    to_connection(of=\"block1\", to=\"ghost-block\"),\n",
    "    to_Conv(name=\"blockB\", s_filer=8, n_filer=64, offset=\"(0.8,0,0)\", to=\"(ghost-block-east)\", caption=\"Block B\", width=8, height=4, depth=4),\n",
    "    to_connection(of=\"ghost-block\", to=\"blockB\"),\n",
    "    # Post-RRDB Layers\n",
    "    to_Conv(name=\"post-residual\", s_filer=8, n_filer=64, offset=\"(0.8,0,0)\", to=\"(blockB-east)\", width=3.2, height=4, depth=4, caption=\"Post-residual\"),\n",
    "    to_connection(of=\"blockB\", to=\"post-residual\"),\n",
    "    to_Pool(name=\"ghost-skip2\", offset=\"(0.4,0,0)\", to=\"(post-residual-east)\", width=0, height=0.1, depth=0.1, opacity=0.0),\n",
    "\n",
    "    to_skip(of=\"ghost-skip1\", to=\"ghost-skip2\", pos=75),\n",
    "\n",
    "    to_UnPool(name=\"upsample1\", offset=\"(1.2,0,0)\", to=\"(post-residual-east)\", width=1.6, height=10, depth=10),\n",
    "    to_connection(of=\"post-residual\", to=\"upsample1\"),\n",
    "    to_UnPool(name=\"upsample2\", offset=\"(0.3,0,0)\", to=\"(upsample1-east)\", width=1.6, height=16, depth=16, caption=\"Pixel-Shuffle Blocks 1\\&2\"),\n",
    "    to_connection(of=\"upsample1\", to=\"upsample2\"),\n",
    "\n",
    "    to_Conv(name=\"final-conv-block\", s_filer=32, n_filer=32, offset=\"(1.2,0,0)\", to=\"(upsample2-east)\", width=1.6, height=16, depth=16, caption=\"Final Conv Block\"),\n",
    "    to_connection(of=\"upsample2\", to=\"final-conv-block\"),\n",
    "\n",
    "    to_Conv(name=\"deepbedmap-dem\", s_filer=32, n_filer=1, offset=\"(1.2,0,0)\", to=\"(final-conv-block-east)\", width=0.5, height=16, depth=16, caption=\"Deep-BedMap-DEM\"),\n",
    "    to_connection(of=\"final-conv-block\", to=\"deepbedmap-dem\"),\n",
    "\n",
    "    to_end(),\n",
    "]\n",
    "to_generate(arch=arch, pathname=os.path.join(FIG_DIR, \"deepbedmap_architecture.tex\"))\n",
    "!pdflatex -output-dir {FIG_DIR} {os.path.join(FIG_DIR, 'deepbedmap_architecture.tex')}"
   ]
  },
  {
   "cell_type": "code",
   "execution_count": null,
   "metadata": {
    "lines_to_next_cell": 2
   },
   "outputs": [],
   "source": [
    "IPython.display.IFrame(\n",
    "    src=\"paper/figures/deepbedmap_architecture.pdf\", width=900, height=450\n",
    ")"
   ]
  },
  {
   "cell_type": "markdown",
   "metadata": {},
   "source": [
    "# **Results**\n",
    "\n",
    "Uses [PyGMT](https://github.com/GenericMappingTools/pygmt/) for drawing map plots."
   ]
  },
  {
   "cell_type": "markdown",
   "metadata": {},
   "source": [
    "## **DeepBedMap_DEM Topography**"
   ]
  },
  {
   "cell_type": "markdown",
   "metadata": {},
   "source": [
    "### **Figure 2: 2D Digital Elevation Model over Antarctica**\n",
    "Also includes the following layers:\n",
    "- Grounding line\n",
    "- Pine Island Glacier extent in Figure 3\n",
    "- Thwaites Glacier extent in Figure 5\n",
    "- Bounding boxes of training tile regions"
   ]
  },
  {
   "cell_type": "code",
   "execution_count": null,
   "metadata": {},
   "outputs": [],
   "source": [
    "region_pineisle = rasterio.coords.BoundingBox(\n",
    "    left=-1631500.0, bottom=-259000.0, right=-1536500.0, top=-95000.0\n",
    ")\n",
    "region_thwaites = rasterio.coords.BoundingBox(\n",
    "    left=-1550000.0, bottom=-550000.0, right=-1250000.0, top=-300000.0\n",
    ")\n",
    "training_tiles = gpd.read_file(\"model/train/tiles_3031.geojson\")"
   ]
  },
  {
   "cell_type": "code",
   "execution_count": null,
   "metadata": {},
   "outputs": [],
   "source": [
    "fig = gmt.Figure()\n",
    "# Plot DeepBedMap Digital Elevation Model (DEM)\n",
    "gmt.makecpt(cmap=\"oleron\", series=[-2000, 4500])\n",
    "fig.grdimage(\n",
    "    grid=\"model/deepbedmap3_big_int16.tif\",\n",
    "    # grid=\"@BEDMAP_elevation.nc\",\n",
    "    region=[-2700000, 2800000, -2200000, 2300000],\n",
    "    projection=\"x1:30000000\",\n",
    "    cmap=True,\n",
    "    Q=True,\n",
    ")\n",
    "# Plot Antactic grounding line\n",
    "fig.coast(\n",
    "    region=\"model/deepbedmap3_big_int16.tif\",\n",
    "    projection=\"s0/-90/-71/1:30000000\",\n",
    "    area_thresh=\"+ag\",\n",
    "    resolution=\"i\",\n",
    "    shorelines=\"0.25p\",\n",
    "    # frame=\"ag\",\n",
    ")\n",
    "# Plot Pine Island and Thwaites Glacier study regions, and Training Tile areas\n",
    "fig.plot(\n",
    "    data=pd.DataFrame([region_pineisle]).values,\n",
    "    region=[-2700000, 2800000, -2200000, 2300000],\n",
    "    projection=\"x1:30000000\",\n",
    "    style=\"r+s\",\n",
    "    pen=\"1.5p,purple2\",\n",
    "    label='\"Pine Island Glacier\"',\n",
    ")\n",
    "fig.plot(\n",
    "    data=pd.DataFrame([region_thwaites]).values,\n",
    "    style=\"r+s\",\n",
    "    pen=\"1.5p,yellow2\",\n",
    "    label='\"Thwaites Glacier\"',\n",
    ")\n",
    "fig.plot(\n",
    "    data=training_tiles.bounds.values,\n",
    "    style=\"r+s\",\n",
    "    pen=\"1p,orange2\",\n",
    "    label='\"Training Regions\"',\n",
    ")\n",
    "# Plot map elements (colorbar, legend, frame)\n",
    "fig.colorbar(\n",
    "    position=\"jBL+jBL+o2.0c/0.5c+w2.4c/0.3c+m\",\n",
    "    box=\"+gwhite+p0.5p\",\n",
    "    frame=[\"af\", 'x+l\"Elevation\"', \"y+lkm\"],\n",
    "    cmap=\"+Uk\",  # kilo-units, i.e. divide by 1000\n",
    "    S=True,  # no lines inside color scalebar\n",
    ")\n",
    "fig.legend(position=\"jBL+jBL+o2.7c/0.2c\", box=\"+gwhite+p0.5p\")\n",
    "fig.basemap(\n",
    "    region=[-2700, 2800, -2200, 2300],\n",
    "    projection=\"x1:30000\",\n",
    "    Bx='af+l\"Polar Stereographic X (km)\"',\n",
    "    By='af+l\"Polar Stereographic Y (km)\"',\n",
    "    frame=\"WSne\",\n",
    ")\n",
    "# Save and show the figure\n",
    "fig.savefig(fname=\"paper/figures/fig2_deepbedmap_dem.png\")\n",
    "fig.show()"
   ]
  }
 ],
 "metadata": {
  "jupytext": {
   "encoding": "# -*- coding: utf-8 -*-",
   "formats": "ipynb,py:hydrogen"
  },
  "kernelspec": {
   "display_name": "deepbedmap",
   "language": "python",
   "name": "deepbedmap"
  },
  "language_info": {
   "codemirror_mode": {
    "name": "ipython",
    "version": 3
   },
   "file_extension": ".py",
   "mimetype": "text/x-python",
   "name": "python",
   "nbconvert_exporter": "python",
   "pygments_lexer": "ipython3",
   "version": "3.7.3"
  }
 },
 "nbformat": 4,
 "nbformat_minor": 4
}
