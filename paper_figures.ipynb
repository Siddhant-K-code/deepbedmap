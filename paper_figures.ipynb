{
 "cells": [
  {
   "cell_type": "markdown",
   "metadata": {},
   "source": [
    "# **DeepBedMap paper figures**\n",
    "\n",
    "Code used to produce each figure in the DeepBedMap paper.\n",
    "Uses [PlotNeuralNet](https://github.com/HarisIqbal88/PlotNeuralNet) for architecture diagram,\n",
    "and [PyGMT](https://github.com/GenericMappingTools/pygmt/) for map plots."
   ]
  },
  {
   "cell_type": "code",
   "execution_count": null,
   "metadata": {},
   "outputs": [],
   "source": [
    "import geopandas as gpd\n",
    "import pandas as pd\n",
    "import pygmt as gmt\n",
    "import rasterio"
   ]
  },
  {
   "cell_type": "markdown",
   "metadata": {},
   "source": [
    "# **Results**"
   ]
  },
  {
   "cell_type": "markdown",
   "metadata": {},
   "source": [
    "## **DeepBedMap_DEM Topography**"
   ]
  },
  {
   "cell_type": "markdown",
   "metadata": {},
   "source": [
    "### **Figure 2: 2D Digital Elevation Model over Antarctica**\n",
    "Also includes the following layers:\n",
    "- Grounding line\n",
    "- Pine Island Glacier extent in Figure 3\n",
    "- Thwaites Glacier extent in Figure 5\n",
    "- Bounding boxes of training tile regions"
   ]
  },
  {
   "cell_type": "code",
   "execution_count": null,
   "metadata": {},
   "outputs": [],
   "source": [
    "region_pineisle = rasterio.coords.BoundingBox(\n",
    "    left=-1631500.0, bottom=-259000.0, right=-1536500.0, top=-95000.0\n",
    ")\n",
    "region_thwaites = rasterio.coords.BoundingBox(\n",
    "    left=-1550000.0, bottom=-550000.0, right=-1250000.0, top=-300000.0\n",
    ")\n",
    "training_tiles = gpd.read_file(\"model/train/tiles_3031.geojson\")"
   ]
  },
  {
   "cell_type": "code",
   "execution_count": null,
   "metadata": {},
   "outputs": [],
   "source": [
    "fig = gmt.Figure()\n",
    "# Plot DeepBedMap Digital Elevation Model (DEM)\n",
    "gmt.makecpt(cmap=\"oleron\", series=[-2000, 4500])\n",
    "fig.grdimage(\n",
    "    grid=\"model/deepbedmap3_big_int16.tif\",\n",
    "    # grid=\"@BEDMAP_elevation.nc\",\n",
    "    region=[-2700000, 2800000, -2200000, 2300000],\n",
    "    projection=\"x1:30000000\",\n",
    "    cmap=True,\n",
    "    Q=True,\n",
    ")\n",
    "# Plot Antactic grounding line\n",
    "fig.coast(\n",
    "    region=\"model/deepbedmap3_big_int16.tif\",\n",
    "    projection=\"s0/-90/-71/1:30000000\",\n",
    "    area_thresh=\"+ag\",\n",
    "    resolution=\"i\",\n",
    "    shorelines=\"0.25p\",\n",
    "    # frame=\"ag\",\n",
    ")\n",
    "# Plot Pine Island and Thwaites Glacier study regions, and Training Tile areas\n",
    "fig.plot(\n",
    "    data=pd.DataFrame([region_pineisle]).values,\n",
    "    region=[-2700000, 2800000, -2200000, 2300000],\n",
    "    projection=\"x1:30000000\",\n",
    "    style=\"r+s\",\n",
    "    pen=\"1.5p,purple2\",\n",
    "    label='\"Pine Island Glacier\"',\n",
    ")\n",
    "fig.plot(\n",
    "    data=pd.DataFrame([region_thwaites]).values,\n",
    "    style=\"r+s\",\n",
    "    pen=\"1.5p,yellow2\",\n",
    "    label='\"Thwaites Glacier\"',\n",
    ")\n",
    "fig.plot(\n",
    "    data=training_tiles.bounds.values,\n",
    "    style=\"r+s\",\n",
    "    pen=\"1p,orange2\",\n",
    "    label='\"Training Regions\"',\n",
    ")\n",
    "# Plot map elements (colorbar, legend, frame)\n",
    "fig.colorbar(\n",
    "    position=\"jBL+jBL+o2.0c/0.5c+w2.4c/0.3c+m\",\n",
    "    box=\"+gwhite+p0.5p\",\n",
    "    frame=[\"af\", 'x+l\"Elevation\"', \"y+lkm\"],\n",
    "    cmap=\"+Uk\",  # kilo-units, i.e. divide by 1000\n",
    "    S=True,  # no lines inside color scalebar\n",
    ")\n",
    "fig.legend(position=\"jBL+jBL+o2.7c/0.2c\", box=\"+gwhite+p0.5p\")\n",
    "fig.basemap(\n",
    "    region=[-2700, 2800, -2200, 2300],\n",
    "    projection=\"x1:30000\",\n",
    "    Bx='af+l\"Polar Stereographic X (km)\"',\n",
    "    By='af+l\"Polar Stereographic Y (km)\"',\n",
    "    frame=\"WSne\",\n",
    ")\n",
    "# Save and show the figure\n",
    "fig.savefig(fname=\"paper/figures/fig2_deepbedmap_dem.png\")\n",
    "fig.show()"
   ]
  }
 ],
 "metadata": {
  "jupytext": {
   "encoding": "# -*- coding: utf-8 -*-",
   "formats": "ipynb,py:hydrogen"
  },
  "kernelspec": {
   "display_name": "deepbedmap",
   "language": "python",
   "name": "deepbedmap"
  },
  "language_info": {
   "codemirror_mode": {
    "name": "ipython",
    "version": 3
   },
   "file_extension": ".py",
   "mimetype": "text/x-python",
   "name": "python",
   "nbconvert_exporter": "python",
   "pygments_lexer": "ipython3",
   "version": "3.7.3"
  }
 },
 "nbformat": 4,
 "nbformat_minor": 4
}
